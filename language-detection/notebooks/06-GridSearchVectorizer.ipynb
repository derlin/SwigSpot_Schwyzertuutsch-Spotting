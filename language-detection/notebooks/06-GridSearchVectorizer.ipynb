{
 "cells": [
  {
   "cell_type": "markdown",
   "metadata": {},
   "source": [
    "# GridSearchCV for the Vectorizer\n",
    "\n",
    "In this notebook, we perform a grid search in order to discover the best parameters for the Vectorizer."
   ]
  },
  {
   "cell_type": "code",
   "execution_count": 1,
   "metadata": {},
   "outputs": [],
   "source": [
    "%run notebook_utils.py\n",
    "%run gridsearch_utils.py"
   ]
  },
  {
   "cell_type": "code",
   "execution_count": 2,
   "metadata": {},
   "outputs": [],
   "source": [
    "from sklearn.feature_extraction.text import TfidfVectorizer\n",
    "from sklearn.linear_model import LogisticRegression"
   ]
  },
  {
   "cell_type": "code",
   "execution_count": 3,
   "metadata": {},
   "outputs": [],
   "source": [
    "# set big font in plots\n",
    "SMALL_SIZE = 16\n",
    "matplotlib.rc('font', size=SMALL_SIZE)\n",
    "matplotlib.rc('axes', titlesize=SMALL_SIZE)"
   ]
  },
  {
   "cell_type": "code",
   "execution_count": 4,
   "metadata": {},
   "outputs": [
    {
     "name": "stdout",
     "output_type": "stream",
     "text": [
      "/Users/Lin/git/SwigSpot/language-detection\n",
      "/Users/Lin/git/SwigSpot/language-detection/notebooks\n"
     ]
    }
   ],
   "source": [
    "%cd ..\n",
    "from langid import WrappedVectorizer, sanitize, np_sanitize\n",
    "%cd - "
   ]
  },
  {
   "cell_type": "markdown",
   "metadata": {},
   "source": [
    "### data loading"
   ]
  },
  {
   "cell_type": "code",
   "execution_count": 5,
   "metadata": {},
   "outputs": [],
   "source": [
    "X, y = load_data()\n",
    "\n",
    "X_train, X_test, y_train, y_test = model_selection.train_test_split(X, y, test_size=0.2, random_state=0)\n",
    "X_train = np.array(X_train)\n",
    "y_train = np.array(y_train)"
   ]
  },
  {
   "cell_type": "code",
   "execution_count": 6,
   "metadata": {},
   "outputs": [],
   "source": [
    "sms_any_X, sms_any_y = load_sms_any()\n",
    "X_valid, y_valid = load_validation_data()"
   ]
  },
  {
   "cell_type": "markdown",
   "metadata": {},
   "source": [
    "# GridSearch for the vectorizer\n"
   ]
  },
  {
   "cell_type": "code",
   "execution_count": 7,
   "metadata": {},
   "outputs": [
    {
     "name": "stdout",
     "output_type": "stream",
     "text": [
      "fitting...\n",
      "Fitting 3 folds for each of 192 candidates, totalling 576 fits\n"
     ]
    },
    {
     "name": "stderr",
     "output_type": "stream",
     "text": [
      "[Parallel(n_jobs=-1)]: Done  34 tasks      | elapsed:   48.0s\n",
      "[Parallel(n_jobs=-1)]: Done 184 tasks      | elapsed:  5.1min\n",
      "[Parallel(n_jobs=-1)]: Done 434 tasks      | elapsed: 13.0min\n",
      "[Parallel(n_jobs=-1)]: Done 576 out of 576 | elapsed: 16.6min finished\n"
     ]
    },
    {
     "data": {
      "text/plain": [
       "GridSearchCV(cv=None, error_score='raise',\n",
       "       estimator=Pipeline(memory=None,\n",
       "     steps=[('vect', WrappedVectorizer(sg_only=False, sanitizer=None, analyzer='char', binary=False, decode_error='strict', dtype=<class 'numpy.int64'>, encoding='utf-8', input='content', lowercase=True, max_df=1.0, max_features=None, min_df=1, ngram_range=(1, 1), norm='l2', preprocessor=None, smooth_idf...ty='l2', random_state=None, solver='liblinear', tol=0.0001,\n",
       "          verbose=0, warm_start=False))]),\n",
       "       fit_params=None, iid=True, n_jobs=-1,\n",
       "       param_grid={'vect__sg_only': (True, False), 'vect__sanitizer': (None, <numpy.lib.function_base.vectorize object at 0x112d7c668>), 'vect__max_features': (4000, 6000, 10000), 'vect__ngram_range': ((1, 3), (3, 3), (4, 4), (3, 5)), 'vect__use_idf': (True, False), 'vect__sublinear_tf': (True, False)},\n",
       "       pre_dispatch='2*n_jobs', refit=True, return_train_score='warn',\n",
       "       scoring=None, verbose=1)"
      ]
     },
     "execution_count": 7,
     "metadata": {},
     "output_type": "execute_result"
    }
   ],
   "source": [
    "pipe = Pipeline([\n",
    "    ('vect', WrappedVectorizer(analyzer='char')),\n",
    "    ('clf', LogisticRegression())\n",
    "])\n",
    "\n",
    "gs_params = {\n",
    "    'vect__sg_only': (True, False),\n",
    "    'vect__sanitizer': (None, np_sanitize),\n",
    "    'vect__max_features': (4000, 6000, 10000),\n",
    "    'vect__ngram_range': ((1,3), (3,3), (4,4), (3,5)), \n",
    "    'vect__use_idf': (True, False),\n",
    "    'vect__sublinear_tf': (True, False),\n",
    "}\n",
    "\n",
    "gs = GridSearchCV(pipe, gs_params, n_jobs=-1, verbose=1)\n",
    "\n",
    "print(\"fitting...\")\n",
    "gs.fit(X, y)"
   ]
  },
  {
   "cell_type": "code",
   "execution_count": 8,
   "metadata": {
    "scrolled": true
   },
   "outputs": [
    {
     "name": "stdout",
     "output_type": "stream",
     "text": [
      "\n",
      "Best score: 0.982\n",
      "Best parameters set:\n",
      "\tvect__max_features: 10000\n",
      "\tvect__ngram_range: (1, 3)\n",
      "\tvect__sanitizer: <numpy.lib.function_base.vectorize object at 0x112d7c668>\n",
      "\tvect__sg_only: False\n",
      "\tvect__sublinear_tf: True\n",
      "\tvect__use_idf: True\n",
      "\n",
      "---------\n",
      "\n",
      "mean, std, vect__max_features,vect__ngram_range,vect__sanitizer,vect__sg_only,vect__sublinear_tf,vect__use_idf\n",
      "0.939, 0.015, 4000, (1, 3), None, True, True, True\n",
      "0.938, 0.016, 4000, (1, 3), None, True, True, False\n",
      "0.939, 0.015, 4000, (1, 3), None, True, False, True\n",
      "0.937, 0.015, 4000, (1, 3), None, True, False, False\n",
      "0.980, 0.003, 4000, (1, 3), None, False, True, True\n",
      "0.977, 0.003, 4000, (1, 3), None, False, True, False\n",
      "0.980, 0.003, 4000, (1, 3), None, False, False, True\n",
      "0.976, 0.003, 4000, (1, 3), None, False, False, False\n",
      "0.939, 0.016, 4000, (1, 3), <numpy.lib.function_base.vectorize object at 0x112d7c668>, True, True, True\n",
      "0.937, 0.016, 4000, (1, 3), <numpy.lib.function_base.vectorize object at 0x112d7c668>, True, True, False\n",
      "0.938, 0.015, 4000, (1, 3), <numpy.lib.function_base.vectorize object at 0x112d7c668>, True, False, True\n",
      "0.936, 0.016, 4000, (1, 3), <numpy.lib.function_base.vectorize object at 0x112d7c668>, True, False, False\n",
      "0.981, 0.003, 4000, (1, 3), <numpy.lib.function_base.vectorize object at 0x112d7c668>, False, True, True\n",
      "0.977, 0.003, 4000, (1, 3), <numpy.lib.function_base.vectorize object at 0x112d7c668>, False, True, False\n",
      "0.980, 0.004, 4000, (1, 3), <numpy.lib.function_base.vectorize object at 0x112d7c668>, False, False, True\n",
      "0.976, 0.004, 4000, (1, 3), <numpy.lib.function_base.vectorize object at 0x112d7c668>, False, False, False\n",
      "0.210, 0.005, 4000, (3, 3), None, True, True, True\n",
      "0.210, 0.005, 4000, (3, 3), None, True, True, False\n",
      "0.210, 0.005, 4000, (3, 3), None, True, False, True\n",
      "0.210, 0.005, 4000, (3, 3), None, True, False, False\n",
      "0.383, 0.026, 4000, (3, 3), None, False, True, True\n",
      "0.383, 0.026, 4000, (3, 3), None, False, True, False\n",
      "0.383, 0.026, 4000, (3, 3), None, False, False, True\n",
      "0.383, 0.026, 4000, (3, 3), None, False, False, False\n",
      "0.210, 0.005, 4000, (3, 3), <numpy.lib.function_base.vectorize object at 0x112d7c668>, True, True, True\n",
      "0.210, 0.005, 4000, (3, 3), <numpy.lib.function_base.vectorize object at 0x112d7c668>, True, True, False\n",
      "0.210, 0.005, 4000, (3, 3), <numpy.lib.function_base.vectorize object at 0x112d7c668>, True, False, True\n",
      "0.210, 0.005, 4000, (3, 3), <numpy.lib.function_base.vectorize object at 0x112d7c668>, True, False, False\n",
      "0.386, 0.030, 4000, (3, 3), <numpy.lib.function_base.vectorize object at 0x112d7c668>, False, True, True\n",
      "0.386, 0.030, 4000, (3, 3), <numpy.lib.function_base.vectorize object at 0x112d7c668>, False, True, False\n",
      "0.386, 0.030, 4000, (3, 3), <numpy.lib.function_base.vectorize object at 0x112d7c668>, False, False, True\n",
      "0.386, 0.030, 4000, (3, 3), <numpy.lib.function_base.vectorize object at 0x112d7c668>, False, False, False\n",
      "0.202, 0.002, 4000, (4, 4), None, True, True, True\n",
      "0.202, 0.002, 4000, (4, 4), None, True, True, False\n",
      "0.202, 0.002, 4000, (4, 4), None, True, False, True\n",
      "0.202, 0.002, 4000, (4, 4), None, True, False, False\n",
      "0.229, 0.004, 4000, (4, 4), None, False, True, True\n",
      "0.229, 0.004, 4000, (4, 4), None, False, True, False\n",
      "0.229, 0.004, 4000, (4, 4), None, False, False, True\n",
      "0.229, 0.004, 4000, (4, 4), None, False, False, False\n",
      "0.202, 0.002, 4000, (4, 4), <numpy.lib.function_base.vectorize object at 0x112d7c668>, True, True, True\n",
      "0.202, 0.002, 4000, (4, 4), <numpy.lib.function_base.vectorize object at 0x112d7c668>, True, True, False\n",
      "0.202, 0.002, 4000, (4, 4), <numpy.lib.function_base.vectorize object at 0x112d7c668>, True, False, True\n",
      "0.202, 0.002, 4000, (4, 4), <numpy.lib.function_base.vectorize object at 0x112d7c668>, True, False, False\n",
      "0.231, 0.007, 4000, (4, 4), <numpy.lib.function_base.vectorize object at 0x112d7c668>, False, True, True\n",
      "0.231, 0.007, 4000, (4, 4), <numpy.lib.function_base.vectorize object at 0x112d7c668>, False, True, False\n",
      "0.231, 0.007, 4000, (4, 4), <numpy.lib.function_base.vectorize object at 0x112d7c668>, False, False, True\n",
      "0.231, 0.007, 4000, (4, 4), <numpy.lib.function_base.vectorize object at 0x112d7c668>, False, False, False\n",
      "0.208, 0.004, 4000, (3, 5), None, True, True, True\n",
      "0.208, 0.004, 4000, (3, 5), None, True, True, False\n",
      "0.208, 0.004, 4000, (3, 5), None, True, False, True\n",
      "0.208, 0.004, 4000, (3, 5), None, True, False, False\n",
      "0.377, 0.026, 4000, (3, 5), None, False, True, True\n",
      "0.377, 0.026, 4000, (3, 5), None, False, True, False\n",
      "0.377, 0.026, 4000, (3, 5), None, False, False, True\n",
      "0.377, 0.026, 4000, (3, 5), None, False, False, False\n",
      "0.208, 0.004, 4000, (3, 5), <numpy.lib.function_base.vectorize object at 0x112d7c668>, True, True, True\n",
      "0.208, 0.004, 4000, (3, 5), <numpy.lib.function_base.vectorize object at 0x112d7c668>, True, True, False\n",
      "0.208, 0.004, 4000, (3, 5), <numpy.lib.function_base.vectorize object at 0x112d7c668>, True, False, True\n",
      "0.208, 0.004, 4000, (3, 5), <numpy.lib.function_base.vectorize object at 0x112d7c668>, True, False, False\n",
      "0.378, 0.027, 4000, (3, 5), <numpy.lib.function_base.vectorize object at 0x112d7c668>, False, True, True\n",
      "0.378, 0.027, 4000, (3, 5), <numpy.lib.function_base.vectorize object at 0x112d7c668>, False, True, False\n",
      "0.378, 0.027, 4000, (3, 5), <numpy.lib.function_base.vectorize object at 0x112d7c668>, False, False, True\n",
      "0.378, 0.027, 4000, (3, 5), <numpy.lib.function_base.vectorize object at 0x112d7c668>, False, False, False\n",
      "0.943, 0.014, 6000, (1, 3), None, True, True, True\n",
      "0.940, 0.014, 6000, (1, 3), None, True, True, False\n",
      "0.942, 0.013, 6000, (1, 3), None, True, False, True\n",
      "0.939, 0.013, 6000, (1, 3), None, True, False, False\n",
      "0.981, 0.004, 6000, (1, 3), None, False, True, True\n",
      "0.977, 0.004, 6000, (1, 3), None, False, True, False\n",
      "0.981, 0.004, 6000, (1, 3), None, False, False, True\n",
      "0.976, 0.004, 6000, (1, 3), None, False, False, False\n",
      "0.943, 0.015, 6000, (1, 3), <numpy.lib.function_base.vectorize object at 0x112d7c668>, True, True, True\n",
      "0.941, 0.015, 6000, (1, 3), <numpy.lib.function_base.vectorize object at 0x112d7c668>, True, True, False\n",
      "0.942, 0.015, 6000, (1, 3), <numpy.lib.function_base.vectorize object at 0x112d7c668>, True, False, True\n",
      "0.940, 0.015, 6000, (1, 3), <numpy.lib.function_base.vectorize object at 0x112d7c668>, True, False, False\n",
      "0.981, 0.003, 6000, (1, 3), <numpy.lib.function_base.vectorize object at 0x112d7c668>, False, True, True\n",
      "0.977, 0.003, 6000, (1, 3), <numpy.lib.function_base.vectorize object at 0x112d7c668>, False, True, False\n",
      "0.981, 0.004, 6000, (1, 3), <numpy.lib.function_base.vectorize object at 0x112d7c668>, False, False, True\n",
      "0.977, 0.003, 6000, (1, 3), <numpy.lib.function_base.vectorize object at 0x112d7c668>, False, False, False\n",
      "0.210, 0.005, 6000, (3, 3), None, True, True, True\n",
      "0.210, 0.005, 6000, (3, 3), None, True, True, False\n",
      "0.210, 0.005, 6000, (3, 3), None, True, False, True\n",
      "0.210, 0.005, 6000, (3, 3), None, True, False, False\n",
      "0.402, 0.030, 6000, (3, 3), None, False, True, True\n",
      "0.402, 0.030, 6000, (3, 3), None, False, True, False\n",
      "0.402, 0.030, 6000, (3, 3), None, False, False, True\n",
      "0.402, 0.030, 6000, (3, 3), None, False, False, False\n",
      "0.210, 0.006, 6000, (3, 3), <numpy.lib.function_base.vectorize object at 0x112d7c668>, True, True, True\n",
      "0.210, 0.006, 6000, (3, 3), <numpy.lib.function_base.vectorize object at 0x112d7c668>, True, True, False\n",
      "0.210, 0.006, 6000, (3, 3), <numpy.lib.function_base.vectorize object at 0x112d7c668>, True, False, True\n",
      "0.210, 0.006, 6000, (3, 3), <numpy.lib.function_base.vectorize object at 0x112d7c668>, True, False, False\n",
      "0.414, 0.009, 6000, (3, 3), <numpy.lib.function_base.vectorize object at 0x112d7c668>, False, True, True\n",
      "0.414, 0.009, 6000, (3, 3), <numpy.lib.function_base.vectorize object at 0x112d7c668>, False, True, False\n",
      "0.414, 0.009, 6000, (3, 3), <numpy.lib.function_base.vectorize object at 0x112d7c668>, False, False, True\n",
      "0.414, 0.009, 6000, (3, 3), <numpy.lib.function_base.vectorize object at 0x112d7c668>, False, False, False\n",
      "0.202, 0.002, 6000, (4, 4), None, True, True, True\n",
      "0.202, 0.002, 6000, (4, 4), None, True, True, False\n",
      "0.202, 0.002, 6000, (4, 4), None, True, False, True\n",
      "0.202, 0.002, 6000, (4, 4), None, True, False, False\n",
      "0.230, 0.003, 6000, (4, 4), None, False, True, True\n",
      "0.230, 0.003, 6000, (4, 4), None, False, True, False\n",
      "0.230, 0.003, 6000, (4, 4), None, False, False, True\n",
      "0.230, 0.003, 6000, (4, 4), None, False, False, False\n",
      "0.202, 0.002, 6000, (4, 4), <numpy.lib.function_base.vectorize object at 0x112d7c668>, True, True, True\n",
      "0.202, 0.002, 6000, (4, 4), <numpy.lib.function_base.vectorize object at 0x112d7c668>, True, True, False\n",
      "0.202, 0.002, 6000, (4, 4), <numpy.lib.function_base.vectorize object at 0x112d7c668>, True, False, True\n",
      "0.202, 0.002, 6000, (4, 4), <numpy.lib.function_base.vectorize object at 0x112d7c668>, True, False, False\n",
      "0.232, 0.006, 6000, (4, 4), <numpy.lib.function_base.vectorize object at 0x112d7c668>, False, True, True\n",
      "0.232, 0.006, 6000, (4, 4), <numpy.lib.function_base.vectorize object at 0x112d7c668>, False, True, False\n",
      "0.232, 0.006, 6000, (4, 4), <numpy.lib.function_base.vectorize object at 0x112d7c668>, False, False, True\n",
      "0.232, 0.006, 6000, (4, 4), <numpy.lib.function_base.vectorize object at 0x112d7c668>, False, False, False\n",
      "0.208, 0.005, 6000, (3, 5), None, True, True, True\n",
      "0.208, 0.005, 6000, (3, 5), None, True, True, False\n",
      "0.208, 0.005, 6000, (3, 5), None, True, False, True\n",
      "0.208, 0.005, 6000, (3, 5), None, True, False, False\n",
      "0.390, 0.032, 6000, (3, 5), None, False, True, True\n",
      "0.390, 0.032, 6000, (3, 5), None, False, True, False\n",
      "0.390, 0.032, 6000, (3, 5), None, False, False, True\n",
      "0.390, 0.032, 6000, (3, 5), None, False, False, False\n",
      "0.208, 0.005, 6000, (3, 5), <numpy.lib.function_base.vectorize object at 0x112d7c668>, True, True, True\n",
      "0.208, 0.005, 6000, (3, 5), <numpy.lib.function_base.vectorize object at 0x112d7c668>, True, True, False\n",
      "0.208, 0.005, 6000, (3, 5), <numpy.lib.function_base.vectorize object at 0x112d7c668>, True, False, True\n",
      "0.208, 0.005, 6000, (3, 5), <numpy.lib.function_base.vectorize object at 0x112d7c668>, True, False, False\n",
      "0.391, 0.035, 6000, (3, 5), <numpy.lib.function_base.vectorize object at 0x112d7c668>, False, True, True\n",
      "0.391, 0.035, 6000, (3, 5), <numpy.lib.function_base.vectorize object at 0x112d7c668>, False, True, False\n",
      "0.391, 0.035, 6000, (3, 5), <numpy.lib.function_base.vectorize object at 0x112d7c668>, False, False, True\n",
      "0.391, 0.035, 6000, (3, 5), <numpy.lib.function_base.vectorize object at 0x112d7c668>, False, False, False\n",
      "0.949, 0.011, 10000, (1, 3), None, True, True, True\n",
      "0.947, 0.011, 10000, (1, 3), None, True, True, False\n",
      "0.948, 0.011, 10000, (1, 3), None, True, False, True\n",
      "0.946, 0.011, 10000, (1, 3), None, True, False, False\n",
      "0.982, 0.004, 10000, (1, 3), None, False, True, True\n",
      "0.976, 0.004, 10000, (1, 3), None, False, True, False\n",
      "0.981, 0.004, 10000, (1, 3), None, False, False, True\n",
      "0.976, 0.004, 10000, (1, 3), None, False, False, False\n",
      "0.946, 0.017, 10000, (1, 3), <numpy.lib.function_base.vectorize object at 0x112d7c668>, True, True, True\n",
      "0.944, 0.017, 10000, (1, 3), <numpy.lib.function_base.vectorize object at 0x112d7c668>, True, True, False\n",
      "0.946, 0.016, 10000, (1, 3), <numpy.lib.function_base.vectorize object at 0x112d7c668>, True, False, True\n",
      "0.943, 0.015, 10000, (1, 3), <numpy.lib.function_base.vectorize object at 0x112d7c668>, True, False, False\n",
      "0.982, 0.004, 10000, (1, 3), <numpy.lib.function_base.vectorize object at 0x112d7c668>, False, True, True\n",
      "0.977, 0.004, 10000, (1, 3), <numpy.lib.function_base.vectorize object at 0x112d7c668>, False, True, False\n",
      "0.981, 0.004, 10000, (1, 3), <numpy.lib.function_base.vectorize object at 0x112d7c668>, False, False, True\n",
      "0.976, 0.004, 10000, (1, 3), <numpy.lib.function_base.vectorize object at 0x112d7c668>, False, False, False\n",
      "0.211, 0.006, 10000, (3, 3), None, True, True, True\n",
      "0.211, 0.006, 10000, (3, 3), None, True, True, False\n",
      "0.211, 0.006, 10000, (3, 3), None, True, False, True\n",
      "0.211, 0.006, 10000, (3, 3), None, True, False, False\n",
      "0.434, 0.039, 10000, (3, 3), None, False, True, True\n",
      "0.434, 0.039, 10000, (3, 3), None, False, True, False\n",
      "0.434, 0.039, 10000, (3, 3), None, False, False, True\n",
      "0.434, 0.039, 10000, (3, 3), None, False, False, False\n",
      "0.212, 0.006, 10000, (3, 3), <numpy.lib.function_base.vectorize object at 0x112d7c668>, True, True, True\n",
      "0.212, 0.006, 10000, (3, 3), <numpy.lib.function_base.vectorize object at 0x112d7c668>, True, True, False\n",
      "0.212, 0.006, 10000, (3, 3), <numpy.lib.function_base.vectorize object at 0x112d7c668>, True, False, True\n",
      "0.212, 0.006, 10000, (3, 3), <numpy.lib.function_base.vectorize object at 0x112d7c668>, True, False, False\n",
      "0.448, 0.018, 10000, (3, 3), <numpy.lib.function_base.vectorize object at 0x112d7c668>, False, True, True\n",
      "0.448, 0.018, 10000, (3, 3), <numpy.lib.function_base.vectorize object at 0x112d7c668>, False, True, False\n",
      "0.448, 0.018, 10000, (3, 3), <numpy.lib.function_base.vectorize object at 0x112d7c668>, False, False, True\n",
      "0.448, 0.018, 10000, (3, 3), <numpy.lib.function_base.vectorize object at 0x112d7c668>, False, False, False\n",
      "0.203, 0.003, 10000, (4, 4), None, True, True, True\n",
      "0.203, 0.003, 10000, (4, 4), None, True, True, False\n",
      "0.203, 0.003, 10000, (4, 4), None, True, False, True\n",
      "0.203, 0.003, 10000, (4, 4), None, True, False, False\n",
      "0.231, 0.003, 10000, (4, 4), None, False, True, True\n",
      "0.231, 0.003, 10000, (4, 4), None, False, True, False\n",
      "0.231, 0.003, 10000, (4, 4), None, False, False, True\n",
      "0.231, 0.003, 10000, (4, 4), None, False, False, False\n",
      "0.203, 0.003, 10000, (4, 4), <numpy.lib.function_base.vectorize object at 0x112d7c668>, True, True, True\n",
      "0.203, 0.003, 10000, (4, 4), <numpy.lib.function_base.vectorize object at 0x112d7c668>, True, True, False\n",
      "0.203, 0.003, 10000, (4, 4), <numpy.lib.function_base.vectorize object at 0x112d7c668>, True, False, True\n",
      "0.203, 0.003, 10000, (4, 4), <numpy.lib.function_base.vectorize object at 0x112d7c668>, True, False, False\n",
      "0.233, 0.005, 10000, (4, 4), <numpy.lib.function_base.vectorize object at 0x112d7c668>, False, True, True\n",
      "0.233, 0.005, 10000, (4, 4), <numpy.lib.function_base.vectorize object at 0x112d7c668>, False, True, False\n",
      "0.233, 0.005, 10000, (4, 4), <numpy.lib.function_base.vectorize object at 0x112d7c668>, False, False, True\n",
      "0.233, 0.005, 10000, (4, 4), <numpy.lib.function_base.vectorize object at 0x112d7c668>, False, False, False\n",
      "0.210, 0.005, 10000, (3, 5), None, True, True, True\n",
      "0.210, 0.005, 10000, (3, 5), None, True, True, False\n",
      "0.210, 0.005, 10000, (3, 5), None, True, False, True\n",
      "0.210, 0.005, 10000, (3, 5), None, True, False, False\n",
      "0.413, 0.044, 10000, (3, 5), None, False, True, True\n",
      "0.413, 0.044, 10000, (3, 5), None, False, True, False\n",
      "0.413, 0.044, 10000, (3, 5), None, False, False, True\n",
      "0.413, 0.044, 10000, (3, 5), None, False, False, False\n",
      "0.210, 0.005, 10000, (3, 5), <numpy.lib.function_base.vectorize object at 0x112d7c668>, True, True, True\n",
      "0.210, 0.005, 10000, (3, 5), <numpy.lib.function_base.vectorize object at 0x112d7c668>, True, True, False\n",
      "0.210, 0.005, 10000, (3, 5), <numpy.lib.function_base.vectorize object at 0x112d7c668>, True, False, True\n",
      "0.210, 0.005, 10000, (3, 5), <numpy.lib.function_base.vectorize object at 0x112d7c668>, True, False, False\n",
      "0.425, 0.025, 10000, (3, 5), <numpy.lib.function_base.vectorize object at 0x112d7c668>, False, True, True\n",
      "0.425, 0.025, 10000, (3, 5), <numpy.lib.function_base.vectorize object at 0x112d7c668>, False, True, False\n",
      "0.425, 0.025, 10000, (3, 5), <numpy.lib.function_base.vectorize object at 0x112d7c668>, False, False, True\n",
      "0.425, 0.025, 10000, (3, 5), <numpy.lib.function_base.vectorize object at 0x112d7c668>, False, False, False\n"
     ]
    }
   ],
   "source": [
    "print_best_estimator(gs)\n",
    "print(\"\\n---------\\n\")\n",
    "print_scores_csv(gs)"
   ]
  },
  {
   "cell_type": "markdown",
   "metadata": {},
   "source": [
    "## Evaluating the best estimator found"
   ]
  },
  {
   "cell_type": "code",
   "execution_count": 9,
   "metadata": {},
   "outputs": [
    {
     "data": {
      "text/plain": [
       "{'analyzer': 'word',\n",
       " 'binary': False,\n",
       " 'decode_error': 'strict',\n",
       " 'dtype': numpy.int64,\n",
       " 'encoding': 'utf-8',\n",
       " 'input': 'content',\n",
       " 'lowercase': True,\n",
       " 'max_df': 1.0,\n",
       " 'max_features': 10000,\n",
       " 'min_df': 1,\n",
       " 'ngram_range': (1, 3),\n",
       " 'norm': 'l2',\n",
       " 'preprocessor': None,\n",
       " 'sanitizer': <numpy.lib.function_base.vectorize at 0x112d7c668>,\n",
       " 'sg_only': False,\n",
       " 'smooth_idf': True,\n",
       " 'stop_words': None,\n",
       " 'strip_accents': None,\n",
       " 'sublinear_tf': True,\n",
       " 'token_pattern': '(?u)\\\\b\\\\w\\\\w+\\\\b',\n",
       " 'tokenizer': None,\n",
       " 'use_idf': True,\n",
       " 'vocabulary': None}"
      ]
     },
     "execution_count": 9,
     "metadata": {},
     "output_type": "execute_result"
    }
   ],
   "source": [
    "gs.best_estimator_.named_steps['vect'].get_params()"
   ]
  },
  {
   "cell_type": "code",
   "execution_count": 20,
   "metadata": {},
   "outputs": [
    {
     "data": {
      "text/plain": [
       "Pipeline(memory=None,\n",
       "     steps=[('vec', WrappedVectorizer(sg_only=False, sanitizer=<numpy.lib.function_base.vectorize object at 0x112d7c668>, analyzer='word', binary=False, decode_error='strict', dtype=<class 'numpy.int64'>, encoding='utf-8', input='content', lowercase=True, max_df=1.0, max_features=10000, min_df=1, ngram_r...ty='l2', random_state=None, solver='liblinear', tol=0.0001,\n",
       "          verbose=0, warm_start=False))])"
      ]
     },
     "execution_count": 20,
     "metadata": {},
     "output_type": "execute_result"
    }
   ],
   "source": [
    "best_pipe = Pipeline(steps=[\n",
    "    ('vec', WrappedVectorizer(**gs.best_estimator_.named_steps['vect'].get_params())),\n",
    "    ('clf', LogisticRegression())\n",
    "])\n",
    "\n",
    "best_pipe.fit(X_train, y_train)"
   ]
  },
  {
   "cell_type": "code",
   "execution_count": 21,
   "metadata": {
    "scrolled": false
   },
   "outputs": [
    {
     "name": "stdout",
     "output_type": "stream",
     "text": [
      "TEST SET\n",
      "========\n",
      "accuracy: 0.9871\n",
      "\n",
      "             precision    recall  f1-score   support\n",
      "\n",
      "         de     0.9863    0.9822    0.9842      1462\n",
      "         fr     0.9932    0.9925    0.9928      1468\n",
      "         en     0.9967    0.9883    0.9925      1538\n",
      "         it     0.9973    0.9960    0.9966      1482\n",
      "         sg     0.9616    0.9764    0.9689      1438\n",
      "\n",
      "avg / total     0.9872    0.9871    0.9872      7388\n",
      "\n"
     ]
    },
    {
     "data": {
      "image/png": "[encoded data removed]",
      "text/plain": [
       "<matplotlib.figure.Figure at 0x1a2239dda0>"
      ]
     },
     "metadata": {},
     "output_type": "display_data"
    },
    {
     "name": "stdout",
     "output_type": "stream",
     "text": [
      "SMS RECALL\n",
      "==========\n",
      "total samples    10692\n",
      "total errors       219 (2.05%)\n",
      "---------------------------------\n",
      "languages detected\n",
      "    de       67\n",
      "    fr       78\n",
      "    en       41\n",
      "    it       33\n",
      "    sg    10473\n",
      "\n",
      "\n",
      "VALIDATION SET\n",
      "===============\n",
      "accuracy: 0.9851\n",
      "\n",
      "             precision    recall  f1-score   support\n",
      "\n",
      "         de     0.9542    0.9897    0.9716      2613\n",
      "         fr     0.9973    0.9969    0.9971      2613\n",
      "         en     0.9977    0.9962    0.9969      2613\n",
      "         it     0.9958    0.9966    0.9962      2613\n",
      "         sg     0.9813    0.9460    0.9634      2613\n",
      "\n",
      "avg / total     0.9853    0.9851    0.9850     13065\n",
      "\n"
     ]
    },
    {
     "data": {
      "image/png": "[encoded data removed]",
      "text/plain": [
       "<matplotlib.figure.Figure at 0x1a1e737a20>"
      ]
     },
     "metadata": {},
     "output_type": "display_data"
    }
   ],
   "source": [
    "print(\"TEST SET\")\n",
    "print(\"========\")\n",
    "y_pred = best_pipe.predict(X_test)\n",
    "print_results(y_test, y_pred)\n",
    "plot_confusion_matrix(y_test, y_pred, normalised=True)\n",
    "\n",
    "print(\"SMS RECALL\")\n",
    "print(\"==========\")\n",
    "\n",
    "test_recall_with_sms(best_pipe)\n",
    "\n",
    "print(\"\\n\\nVALIDATION SET\")\n",
    "print(\"===============\")\n",
    "y_valid_pred = best_pipe.predict(X_valid)\n",
    "print_results(y_valid, y_valid_pred)\n",
    "plot_confusion_matrix(y_valid, y_valid_pred, normalised=True)"
   ]
  },
  {
   "cell_type": "code",
   "execution_count": 12,
   "metadata": {
    "scrolled": false
   },
   "outputs": [
    {
     "name": "stdout",
     "output_type": "stream",
     "text": [
      "Testing on SMS any\n",
      "==================\n",
      "\n",
      "accuracy: 0.8308\n",
      "\n",
      "             precision    recall  f1-score   support\n",
      "\n",
      "         de     1.0000    0.6169    0.7631       201\n",
      "         fr     0.9891    0.9005    0.9427       201\n",
      "         en     0.9868    0.7463    0.8499       201\n",
      "         it     0.9679    0.9005    0.9330       201\n",
      "         sg     0.5543    0.9900    0.7107       201\n",
      "\n",
      "avg / total     0.8996    0.8308    0.8399      1005\n",
      "\n",
      "\n",
      "Errors per language:\n",
      "\n",
      "  de:   77\n",
      "  fr:   20\n",
      "  en:   51\n",
      "  it:   20\n",
      "  sg:    2\n",
      "\n",
      "Sample errors:\n",
      "\n",
      "real|predicted  <sentence>\n",
      "--------------------------\n",
      "  de|sg   hallo kurt, gehts gut? ich bin bis zum 30.11. in sissach. sehen wir uns naechstes wochenende?liebe gruesse papa\n",
      "  fr|sg   Tu fais koi mÆtnÅ?\n",
      "  de|sg   Hallo Julian habe jetzt 2 Dosier Weingut abgegeben. Gruss Maat\n",
      "  de|sg   habe vorher schule... vielleicht 10.05, wenn ich pressiere, geht das?\n",
      "  fr|sg   Dè kon rentre-ver 6h. Biz\n",
      "  en|sg   Hey we're gonna see us tomorrow, right?not next week?lilu\n",
      "  de|sg   Bin jetzt zuHause. LG Bertrand\n",
      "  it|sg   Vado a dormire! Buon viaggio, sogni d'oro e a domani! :-*\n",
      "  en|sg   Very true... :-) u coming 2 pala 2nite?\n",
      "  de|sg   Tut mir auch leid und nein ich bin dir nìcht böse. Wünsche dir einen schönen tag und lass dich nicht stressen.\n",
      "  en|sg   I miss you:-|\n",
      "  de|sg   Oje... Das tut mir leid! :-(\n",
      "  de|sg   Gute ruh dir! Bis morgen...\n",
      "  it|sg   Ciao bella!come stai?fai qualcosa stasera?baci!!\n",
      "  de|sg   Hallo meine süße.:) hoffe du hast schöne ferien ?! Vermiss dich meld dich wenn du wieder da bist! Hdgdl. Lg.\n",
      "  de|sg   Und: wann sollen wir kommen/ was mitbringen?\n",
      "  fr|sg   Tu vien me cherche a kelle heur\n",
      "  fr|sg   Vous etes où?\n",
      "  en|it   You've got m@il ;-)\n",
      "  fr|sg   Moi ossi! A tt a l h!\n"
     ]
    }
   ],
   "source": [
    "print(\"Testing on SMS any\")\n",
    "print(\"==================\\n\")\n",
    "\n",
    "sms_any_predicted = best_pipe.predict(sms_any_X)\n",
    "print_results(sms_any_y, sms_any_predicted)\n",
    "print()\n",
    "print_errors_per_lang(sms_any_y, sms_any_predicted)\n",
    "print_sample_errors(sms_any_X, sms_any_y, sms_any_predicted, limit=20)"
   ]
  },
  {
   "cell_type": "markdown",
   "metadata": {},
   "source": [
    "# Understanding the errors better"
   ]
  },
  {
   "cell_type": "code",
   "execution_count": 13,
   "metadata": {},
   "outputs": [],
   "source": [
    "errors_idx = np.argwhere(sms_any_y != sms_any_predicted).flatten()"
   ]
  },
  {
   "cell_type": "code",
   "execution_count": 14,
   "metadata": {},
   "outputs": [
    {
     "name": "stdout",
     "output_type": "stream",
     "text": [
      "English sentences taken for Swiss German:\n",
      "=========================================\n",
      "\n",
      "Babe...babe...i'm back again.i tell you i'm back again.i'm ba-hack again.babe...\n",
      "Finished today! When do i start tomorrow pls.?\n",
      "Wow! You're speaking English? Have a nice time! G,e\n",
      "Sweetheart, me too I miss u. Let me get up, shower en buy som bread. I call u after, okay. Am still dozin in bed. You are sweet. xxx\n",
      "Charlot angel, am still @mymother's place where we had dinner w my parents. Miss u, xxx sss\n",
      "Gd ngt my love, am so tired. Sleep well. kisss\n",
      "Guess what? few min. late 8-|...sorry\n",
      "M thinking F U day n N day out. C u.\n",
      "Hope u r sleeping good! I go dreaming in u'r arms so deep, love u priska <3 xxx\n",
      "I am busy right now. I'll call you back later.tiziano\n",
      "Hi celine. Monday 12.15 john\n",
      "Very true... :-) u coming 2 pala 2nite?\n",
      "I just kiss you betwern your legs :-) - CU soon...\n",
      "14. November! Love u:-*\n",
      "Hey kiwi, u here soon?\n",
      "Where R U?\n",
      "S T A R T xxxxxxxxxxxxxxxxxxxx@yyy.ch\n",
      "c u soon babes x's\n",
      "How about lunch next week?B-)\n",
      "Aiii äm wot ai ääm aiäm mai oon speschl kriäischnn\n",
      "8??!! Ok i come at 8pm, ok?\n",
      "Where can ju find anna?\n",
      "Oh! What a pitty!!\n",
      "We love you\n",
      "Sharpshooter 4 life\n",
      "I am late. 15h.\n",
      "Hau lucks itt?\n",
      "Sure! Just took a shower. Skype in 3 min?\n",
      "Whats up here we go?\n",
      "Yes thats ok,just write a sms! love you* kisskiss\n",
      "Usual question NNNN Oerlikon? today\n",
      "Irc @ 02:13? Gotta talk.\n",
      "IM SICK AGAIN, NOW I STAY AIRPORT, I FLY HOME..GOOD BY\n",
      "Good night,my hero.\n",
      "take you time. I'm here\n",
      "You've got m@il ;-)\n",
      "mouseface :-) ;-)\n",
      "Morning Fridl Texas Ranger Éléonore Reymond,ch.des Laurelles 54,NNNN Gland,NNNNNNNNNN\n",
      "I am in Griesheim!just landed tnday!\n",
      "Hey cal me back when finish scool\n",
      "Hi No see you 13.00h take care! y's g\n",
      "Nathing happen -.-\n",
      "Christophe you don't said me, when do you will cam with me ;)  greez Silu\n",
      "Wow! What a snap shot! Looks awesome! You need a bike too\n",
      "You've got mail! :)\n",
      "You've got an e-mail in your inbox!\n",
      ":) ok! :)\n",
      "No. Wasn't me! Maybe you should get your phone checked sounds like it's going a bit bonkers!\n",
      "I miss you:-|\n",
      "Hey we're gonna see us tomorrow, right?not next week?lilu\n",
      "Happy birthday 2u\n"
     ]
    }
   ],
   "source": [
    "print(\"English sentences taken for Swiss German:\")\n",
    "print(\"=========================================\\n\")\n",
    "for i in errors_idx: \n",
    "    if sms_any_y[i] == 2:\n",
    "        print(sms_any_X[i])"
   ]
  },
  {
   "cell_type": "markdown",
   "metadata": {},
   "source": [
    "# Using probabilities"
   ]
  },
  {
   "cell_type": "code",
   "execution_count": 15,
   "metadata": {},
   "outputs": [],
   "source": [
    "valid_proba = best_pipe.predict_proba(X_valid)\n",
    "valid_bin = np.array(y_valid == 4, dtype=int)"
   ]
  },
  {
   "cell_type": "code",
   "execution_count": 16,
   "metadata": {},
   "outputs": [
    {
     "name": "stdout",
     "output_type": "stream",
     "text": [
      "Actual Swiss German:  2613\n",
      "Predicted Swiss German using probability filter: \n",
      "  p >= 50: 2475\n",
      "  p >= 70: 2289\n",
      "  p >= 80: 2087\n",
      "  p >= 85: 1863\n",
      "  p >= 90: 1475\n",
      "  p >= 95: 718\n"
     ]
    }
   ],
   "source": [
    "print(\"Actual Swiss German: \", valid_bin.sum())\n",
    "print(\"Predicted Swiss German using probability filter: \")\n",
    "for proba in [0.5, 0.7, 0.8, 0.85, 0.9, 0.95]:\n",
    "    print(\"  p >= %d: %d\" % (proba * 100, np.array(valid_proba[:,4] >= proba, dtype=int).sum()))"
   ]
  },
  {
   "cell_type": "code",
   "execution_count": 17,
   "metadata": {},
   "outputs": [
    {
     "name": "stdout",
     "output_type": "stream",
     "text": [
      "accuracy: 0.9597\n",
      "\n",
      "             precision    recall  f1-score   support\n",
      "\n",
      "     Not SG     0.9521    1.0000    0.9755     10452\n",
      "         SG     1.0000    0.7987    0.8881      2613\n",
      "\n",
      "avg / total     0.9617    0.9597    0.9580     13065\n",
      "\n"
     ]
    },
    {
     "data": {
      "image/png": "[encoded data removed]",
      "text/plain": [
       "<matplotlib.figure.Figure at 0x1a343be940>"
      ]
     },
     "metadata": {},
     "output_type": "display_data"
    }
   ],
   "source": [
    "labels = ['Not SG', 'SG']\n",
    "proba_pred = np.array(valid_proba[:,4] >= 0.8, dtype=int)\n",
    "print_results(valid_bin, proba_pred, labels=labels)\n",
    "plot_confusion_matrix(valid_bin, proba_pred, normalised=True, labels=labels, figsize=(5,3))"
   ]
  },
  {
   "cell_type": "code",
   "execution_count": 18,
   "metadata": {},
   "outputs": [
    {
     "name": "stdout",
     "output_type": "stream",
     "text": [
      "Sample of Swiss German sentences misclassified (min proba=0.85):\n",
      "\n",
      "R|P  proba sentence\n",
      "-------------------\n",
      "1|0 (0.36) No froggt äär dää: daarf di öbbis haiggels frooge!\n",
      "1|0 (0.20) Mitteleuropa, in Wäldern, tagsüber vor allem unter Holz.\n",
      "1|0 (0.74) Fachärztin FMH für Allgemeine Innere Medizin info@diehausaerztinnen.ch Prof.\n",
      "1|0 (0.81) Merci vyylmool fir dä lessigi Ufftritt an unserem Galaoobe, 40 Joor Gyzgnäbber Waagis 1973.\n",
      "1|0 (0.83) Eg liebe die zwöi, si si eifach super.\n",
      "1|0 (0.84) Ameldig und bekanntgab vom Ort demnächscht:-) Jo wieder uf und agleit, und trockenen fusses zur arbet cho?\n",
      "1|0 (0.05) Anlässlich: Abschlussveranstaltung des Projektes Raum+ Thurgau.\n",
      "1|0 (0.81) Ihr händ ihn einfach i eui Fründschaft ufgnoh und ich ha gmerkt wie guet ihm das tuet.\n",
      "1|0 (0.27) Ausflüge und Freizeittipps für die ganze Familie..\n",
      "1|0 (0.05) Gerlinde Huber-Rebenich LV 6/8: Übung zur Vorlesung: Geschichte der lateinischen Sprache: Antike bis Humanismus.\n",
      "1|0 (0.81) Viu chani derzue eigentlech gar nid säge; si lige eifach syt jahrtuusige da.\n",
      "1|0 (0.60) Ou der «Bäremani» wird do öppe vorbiluege und nech chli i d'Irri füehre..\n",
      "1|0 (0.83) 6. mit em wageheber de motor vo une gaaaanz wenig ahebe, damit me de alternator ohni problem usebringt! 8. zersch wider nur de alternator une aschrube, damit mer de rieme wider drüberbringt!\n",
      "1|0 (0.83) Wednesday 05. September 2012 Keine Übung Wel das Weekend Chnabeschüsse isch, findet kei Üebig stat.\n",
      "1|0 (0.70) Das chasch nit verstah: Niemer het der Zit.\n",
      "1|0 (0.84) Ha iine nur schnäll welle saage: Y stegg im Lift vom Globus, dusse stoot my Laiter-Waage.\n",
      "1|0 (0.82) Exorzsist hani alli gseh, ond saw fendi de erscht eigentlech de bescht.\n",
      "1|0 (0.82) ! verschtasch käs wort, genau wi bi eusäm lehrer!\n",
      "1|0 (0.84) ! daenked dra dass min alk au muess gsoffe werde..\n",
      "1|0 (0.24) Allmend, Hinter der (Rodersdorf SO) Kulturland NNW Dorf zwischen Birsigkanal und altem Birsig bzw.\n"
     ]
    }
   ],
   "source": [
    "min_proba = 0.85\n",
    "proba_pred = np.array(valid_proba[:,4] >= min_proba, dtype=int)\n",
    "print(\"Sample of Swiss German sentences misclassified (min proba=%.2f):\\n\" % min_proba)\n",
    "print(\"R|P  proba sentence\")\n",
    "print(\"-------------------\")\n",
    "err_idx = np.where(valid_bin != proba_pred)[0]\n",
    "for i in random.sample(err_idx.tolist(), 20):\n",
    "    print(\"%d|%d (%.2f) %s\" % (valid_bin[i], proba_pred[i], valid_proba[i, 4], X_valid[i]))"
   ]
  },
  {
   "cell_type": "code",
   "execution_count": 19,
   "metadata": {},
   "outputs": [
    {
     "name": "stdout",
     "output_type": "stream",
     "text": [
      "Average precision-recall score: 0.77\n"
     ]
    },
    {
     "data": {
      "text/plain": [
       "Text(0.5,1,'2-class Precision-Recall curve: AP=0.77')"
      ]
     },
     "execution_count": 19,
     "metadata": {},
     "output_type": "execute_result"
    },
    {
     "data": {
      "image/png": "[encoded data removed]",
      "text/plain": [
       "<matplotlib.figure.Figure at 0x1a1d7adbe0>"
      ]
     },
     "metadata": {},
     "output_type": "display_data"
    }
   ],
   "source": [
    "from sklearn.metrics import precision_recall_curve, average_precision_score\n",
    "average_precision = average_precision_score(valid_bin, proba_pred)\n",
    "\n",
    "print('Average precision-recall score: {0:0.2f}'.format(average_precision))\n",
    "precision, recall, _ = precision_recall_curve(valid_bin, proba_pred)\n",
    "\n",
    "plt.step(recall, precision, color='b', alpha=0.2, where='post')\n",
    "plt.fill_between(recall, precision, step='post', alpha=0.2, color='b')\n",
    "\n",
    "plt.xlabel('Recall')\n",
    "plt.ylabel('Precision')\n",
    "plt.ylim([0.0, 1.05])\n",
    "plt.xlim([0.0, 1.0])\n",
    "plt.title('2-class Precision-Recall curve: AP={0:0.2f}'.format(average_precision))"
   ]
  },
  {
   "cell_type": "code",
   "execution_count": null,
   "metadata": {},
   "outputs": [],
   "source": []
  }
 ],
 "metadata": {
  "kernelspec": {
   "display_name": "Python 3",
   "language": "python",
   "name": "python3"
  },
  "language_info": {
   "codemirror_mode": {
    "name": "ipython",
    "version": 3
   },
   "file_extension": ".py",
   "mimetype": "text/x-python",
   "name": "python",
   "nbconvert_exporter": "python",
   "pygments_lexer": "ipython3",
   "version": "3.6.4"
  }
 },
 "nbformat": 4,
 "nbformat_minor": 2
}
