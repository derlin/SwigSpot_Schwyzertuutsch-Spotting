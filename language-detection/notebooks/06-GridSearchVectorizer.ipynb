{
 "cells": [
  {
   "cell_type": "markdown",
   "metadata": {},
   "source": [
    "# GridSearchCV for the Vectorizer\n",
    "\n",
    "In this notebook, we perform a grid search in order to discover the best parameters for the Vectorizer."
   ]
  },
  {
   "cell_type": "code",
   "execution_count": 163,
   "metadata": {},
   "outputs": [],
   "source": [
    "%run notebook_utils.py\n",
    "%run gridsearch_utils.py"
   ]
  },
  {
   "cell_type": "code",
   "execution_count": 6,
   "metadata": {},
   "outputs": [],
   "source": [
    "from sklearn.feature_extraction.text import TfidfVectorizer\n",
    "from sklearn.linear_model import LogisticRegression"
   ]
  },
  {
   "cell_type": "code",
   "execution_count": 19,
   "metadata": {},
   "outputs": [],
   "source": [
    "# set big font in plots\n",
    "SMALL_SIZE = 16\n",
    "matplotlib.rc('font', size=SMALL_SIZE)\n",
    "matplotlib.rc('axes', titlesize=SMALL_SIZE)"
   ]
  },
  {
   "cell_type": "code",
   "execution_count": 1,
   "metadata": {},
   "outputs": [
    {
     "name": "stdout",
     "output_type": "stream",
     "text": [
      "/Users/Lin/git/SwigSpot/language-detection\n",
      "/Users/Lin/git/SwigSpot/language-detection/notebooks\n"
     ]
    }
   ],
   "source": [
    "%cd ..\n",
    "from langid import WrappedVectorizer, sanitize, np_sanitize\n",
    "%cd - "
   ]
  },
  {
   "cell_type": "markdown",
   "metadata": {},
   "source": [
    "### data loading"
   ]
  },
  {
   "cell_type": "code",
   "execution_count": 4,
   "metadata": {},
   "outputs": [],
   "source": [
    "X, y = load_data()\n",
    "\n",
    "X_train, X_test, y_train, y_test = model_selection.train_test_split(X, y, test_size=0.2, random_state=0)\n",
    "X_train = np.array(X_train)\n",
    "y_train = np.array(y_train)"
   ]
  },
  {
   "cell_type": "code",
   "execution_count": 173,
   "metadata": {},
   "outputs": [],
   "source": [
    "sms_any_X, sms_any_y = load_sms_any()\n",
    "X_valid, y_valid = load_validation_data()"
   ]
  },
  {
   "cell_type": "markdown",
   "metadata": {},
   "source": [
    "# GridSearch for the vectorizer\n"
   ]
  },
  {
   "cell_type": "code",
   "execution_count": 7,
   "metadata": {},
   "outputs": [
    {
     "name": "stdout",
     "output_type": "stream",
     "text": [
      "fitting...\n",
      "Fitting 3 folds for each of 144 candidates, totalling 432 fits\n"
     ]
    },
    {
     "name": "stderr",
     "output_type": "stream",
     "text": [
      "[Parallel(n_jobs=-1)]: Done  34 tasks      | elapsed:  1.4min\n",
      "[Parallel(n_jobs=-1)]: Done 184 tasks      | elapsed: 10.6min\n",
      "[Parallel(n_jobs=-1)]: Done 432 out of 432 | elapsed: 41.5min finished\n"
     ]
    },
    {
     "data": {
      "text/plain": [
       "GridSearchCV(cv=None, error_score='raise',\n",
       "       estimator=Pipeline(memory=None,\n",
       "     steps=[('vect', WrappedVectorizer(sg_only=False, sanitizer=None, analyzer='char', binary=False, decode_error='strict', dtype=<class 'numpy.int64'>, encoding='utf-8', input='content', lowercase=True, max_df=1.0, max_features=None, min_df=1, ngram_range=(1, 1), norm='l2', preprocessor=None, smooth_idf...ty='l2', random_state=None, solver='liblinear', tol=0.0001,\n",
       "          verbose=0, warm_start=False))]),\n",
       "       fit_params=None, iid=True, n_jobs=-1,\n",
       "       param_grid={'vect__sg_only': (True, False), 'vect__sanitizer': (None, <numpy.lib.function_base.vectorize object at 0x115206710>), 'vect__max_features': (4000, 6000, 10000), 'vect__ngram_range': ((3, 3), (4, 4), (3, 5)), 'vect__use_idf': (True, False), 'vect__sublinear_tf': (True, False)},\n",
       "       pre_dispatch='2*n_jobs', refit=True, return_train_score='warn',\n",
       "       scoring=None, verbose=1)"
      ]
     },
     "execution_count": 7,
     "metadata": {},
     "output_type": "execute_result"
    }
   ],
   "source": [
    "pipe = Pipeline([\n",
    "    ('vect', WrappedVectorizer(analyzer='char')),\n",
    "    ('clf', LogisticRegression())\n",
    "])\n",
    "\n",
    "gs_params = {\n",
    "    'vect__sg_only': (True, False),\n",
    "    'vect__sanitizer': (None, np_sanitize),\n",
    "    'vect__max_features': (4000, 6000, 10000),\n",
    "    'vect__ngram_range': ((3,3), (4,4), (3,5)), \n",
    "    'vect__use_idf': (True, False),\n",
    "    'vect__sublinear_tf': (True, False),\n",
    "}\n",
    "\n",
    "gs = GridSearchCV(pipe, gs_params, n_jobs=-1, verbose=1)\n",
    "\n",
    "print(\"fitting...\")\n",
    "gs.fit(X, y)"
   ]
  },
  {
   "cell_type": "code",
   "execution_count": 132,
   "metadata": {
    "scrolled": true
   },
   "outputs": [
    {
     "name": "stdout",
     "output_type": "stream",
     "text": [
      "\n",
      "Best score: 0.991\n",
      "Best parameters set:\n",
      "\tvect__max_features: 10000\n",
      "\tvect__ngram_range: (3, 3)\n",
      "\tvect__sanitizer: None\n",
      "\tvect__sg_only: False\n",
      "\tvect__sublinear_tf: True\n",
      "\tvect__use_idf: True\n",
      "\n",
      "---------\n",
      "\n",
      "mean, std, vect__max_features,vect__ngram_range,vect__sanitizer,vect__sg_only,vect__sublinear_tf,vect__use_idf\n",
      "0.987, 0.006, 4000, (3, 3), None, True, True, True\n",
      "0.986, 0.005, 4000, (3, 3), None, True, True, False\n",
      "0.987, 0.006, 4000, (3, 3), None, True, False, True\n",
      "0.985, 0.004, 4000, (3, 3), None, True, False, False\n",
      "0.989, 0.005, 4000, (3, 3), None, False, True, True\n",
      "0.986, 0.005, 4000, (3, 3), None, False, True, False\n",
      "0.989, 0.005, 4000, (3, 3), None, False, False, True\n",
      "0.986, 0.004, 4000, (3, 3), None, False, False, False\n",
      "0.985, 0.006, 4000, (3, 3), <numpy.lib.function_base.vectorize object at 0x115206710>, True, True, True\n",
      "0.984, 0.004, 4000, (3, 3), <numpy.lib.function_base.vectorize object at 0x115206710>, True, True, False\n",
      "0.985, 0.006, 4000, (3, 3), <numpy.lib.function_base.vectorize object at 0x115206710>, True, False, True\n",
      "0.984, 0.005, 4000, (3, 3), <numpy.lib.function_base.vectorize object at 0x115206710>, True, False, False\n",
      "0.988, 0.004, 4000, (3, 3), <numpy.lib.function_base.vectorize object at 0x115206710>, False, True, True\n",
      "0.985, 0.004, 4000, (3, 3), <numpy.lib.function_base.vectorize object at 0x115206710>, False, True, False\n",
      "0.987, 0.004, 4000, (3, 3), <numpy.lib.function_base.vectorize object at 0x115206710>, False, False, True\n",
      "0.984, 0.004, 4000, (3, 3), <numpy.lib.function_base.vectorize object at 0x115206710>, False, False, False\n",
      "0.974, 0.008, 4000, (4, 4), None, True, True, True\n",
      "0.974, 0.006, 4000, (4, 4), None, True, True, False\n",
      "0.974, 0.007, 4000, (4, 4), None, True, False, True\n",
      "0.974, 0.006, 4000, (4, 4), None, True, False, False\n",
      "0.986, 0.005, 4000, (4, 4), None, False, True, True\n",
      "0.985, 0.005, 4000, (4, 4), None, False, True, False\n",
      "0.986, 0.006, 4000, (4, 4), None, False, False, True\n",
      "0.984, 0.005, 4000, (4, 4), None, False, False, False\n",
      "0.975, 0.008, 4000, (4, 4), <numpy.lib.function_base.vectorize object at 0x115206710>, True, True, True\n",
      "0.975, 0.006, 4000, (4, 4), <numpy.lib.function_base.vectorize object at 0x115206710>, True, True, False\n",
      "0.975, 0.008, 4000, (4, 4), <numpy.lib.function_base.vectorize object at 0x115206710>, True, False, True\n",
      "0.975, 0.006, 4000, (4, 4), <numpy.lib.function_base.vectorize object at 0x115206710>, True, False, False\n",
      "0.986, 0.005, 4000, (4, 4), <numpy.lib.function_base.vectorize object at 0x115206710>, False, True, True\n",
      "0.984, 0.006, 4000, (4, 4), <numpy.lib.function_base.vectorize object at 0x115206710>, False, True, False\n",
      "0.986, 0.005, 4000, (4, 4), <numpy.lib.function_base.vectorize object at 0x115206710>, False, False, True\n",
      "0.984, 0.006, 4000, (4, 4), <numpy.lib.function_base.vectorize object at 0x115206710>, False, False, False\n",
      "0.985, 0.007, 4000, (3, 5), None, True, True, True\n",
      "0.985, 0.005, 4000, (3, 5), None, True, True, False\n",
      "0.985, 0.006, 4000, (3, 5), None, True, False, True\n",
      "0.985, 0.005, 4000, (3, 5), None, True, False, False\n",
      "0.988, 0.005, 4000, (3, 5), None, False, True, True\n",
      "0.987, 0.004, 4000, (3, 5), None, False, True, False\n",
      "0.988, 0.005, 4000, (3, 5), None, False, False, True\n",
      "0.986, 0.004, 4000, (3, 5), None, False, False, False\n",
      "0.985, 0.007, 4000, (3, 5), <numpy.lib.function_base.vectorize object at 0x115206710>, True, True, True\n",
      "0.985, 0.006, 4000, (3, 5), <numpy.lib.function_base.vectorize object at 0x115206710>, True, True, False\n",
      "0.984, 0.007, 4000, (3, 5), <numpy.lib.function_base.vectorize object at 0x115206710>, True, False, True\n",
      "0.984, 0.005, 4000, (3, 5), <numpy.lib.function_base.vectorize object at 0x115206710>, True, False, False\n",
      "0.987, 0.005, 4000, (3, 5), <numpy.lib.function_base.vectorize object at 0x115206710>, False, True, True\n",
      "0.986, 0.004, 4000, (3, 5), <numpy.lib.function_base.vectorize object at 0x115206710>, False, True, False\n",
      "0.987, 0.005, 4000, (3, 5), <numpy.lib.function_base.vectorize object at 0x115206710>, False, False, True\n",
      "0.985, 0.004, 4000, (3, 5), <numpy.lib.function_base.vectorize object at 0x115206710>, False, False, False\n",
      "0.987, 0.006, 6000, (3, 3), None, True, True, True\n",
      "0.987, 0.004, 6000, (3, 3), None, True, True, False\n",
      "0.987, 0.006, 6000, (3, 3), None, True, False, True\n",
      "0.986, 0.004, 6000, (3, 3), None, True, False, False\n",
      "0.990, 0.004, 6000, (3, 3), None, False, True, True\n",
      "0.987, 0.004, 6000, (3, 3), None, False, True, False\n",
      "0.990, 0.004, 6000, (3, 3), None, False, False, True\n",
      "0.986, 0.004, 6000, (3, 3), None, False, False, False\n",
      "0.985, 0.006, 6000, (3, 3), <numpy.lib.function_base.vectorize object at 0x115206710>, True, True, True\n",
      "0.984, 0.004, 6000, (3, 3), <numpy.lib.function_base.vectorize object at 0x115206710>, True, True, False\n",
      "0.985, 0.006, 6000, (3, 3), <numpy.lib.function_base.vectorize object at 0x115206710>, True, False, True\n",
      "0.984, 0.004, 6000, (3, 3), <numpy.lib.function_base.vectorize object at 0x115206710>, True, False, False\n",
      "0.988, 0.004, 6000, (3, 3), <numpy.lib.function_base.vectorize object at 0x115206710>, False, True, True\n",
      "0.985, 0.004, 6000, (3, 3), <numpy.lib.function_base.vectorize object at 0x115206710>, False, True, False\n",
      "0.987, 0.004, 6000, (3, 3), <numpy.lib.function_base.vectorize object at 0x115206710>, False, False, True\n",
      "0.984, 0.004, 6000, (3, 3), <numpy.lib.function_base.vectorize object at 0x115206710>, False, False, False\n",
      "0.980, 0.006, 6000, (4, 4), None, True, True, True\n",
      "0.979, 0.005, 6000, (4, 4), None, True, True, False\n",
      "0.979, 0.006, 6000, (4, 4), None, True, False, True\n",
      "0.979, 0.005, 6000, (4, 4), None, True, False, False\n",
      "0.988, 0.006, 6000, (4, 4), None, False, True, True\n",
      "0.986, 0.005, 6000, (4, 4), None, False, True, False\n",
      "0.988, 0.006, 6000, (4, 4), None, False, False, True\n",
      "0.985, 0.005, 6000, (4, 4), None, False, False, False\n",
      "0.980, 0.005, 6000, (4, 4), <numpy.lib.function_base.vectorize object at 0x115206710>, True, True, True\n",
      "0.979, 0.004, 6000, (4, 4), <numpy.lib.function_base.vectorize object at 0x115206710>, True, True, False\n",
      "0.980, 0.004, 6000, (4, 4), <numpy.lib.function_base.vectorize object at 0x115206710>, True, False, True\n",
      "0.979, 0.004, 6000, (4, 4), <numpy.lib.function_base.vectorize object at 0x115206710>, True, False, False\n",
      "0.988, 0.005, 6000, (4, 4), <numpy.lib.function_base.vectorize object at 0x115206710>, False, True, True\n",
      "0.986, 0.005, 6000, (4, 4), <numpy.lib.function_base.vectorize object at 0x115206710>, False, True, False\n",
      "0.988, 0.005, 6000, (4, 4), <numpy.lib.function_base.vectorize object at 0x115206710>, False, False, True\n",
      "0.985, 0.006, 6000, (4, 4), <numpy.lib.function_base.vectorize object at 0x115206710>, False, False, False\n",
      "0.986, 0.006, 6000, (3, 5), None, True, True, True\n",
      "0.986, 0.005, 6000, (3, 5), None, True, True, False\n",
      "0.986, 0.006, 6000, (3, 5), None, True, False, True\n",
      "0.986, 0.004, 6000, (3, 5), None, True, False, False\n",
      "0.988, 0.005, 6000, (3, 5), None, False, True, True\n",
      "0.987, 0.004, 6000, (3, 5), None, False, True, False\n",
      "0.989, 0.005, 6000, (3, 5), None, False, False, True\n",
      "0.987, 0.004, 6000, (3, 5), None, False, False, False\n",
      "0.985, 0.007, 6000, (3, 5), <numpy.lib.function_base.vectorize object at 0x115206710>, True, True, True\n",
      "0.985, 0.005, 6000, (3, 5), <numpy.lib.function_base.vectorize object at 0x115206710>, True, True, False\n",
      "0.984, 0.007, 6000, (3, 5), <numpy.lib.function_base.vectorize object at 0x115206710>, True, False, True\n",
      "0.985, 0.005, 6000, (3, 5), <numpy.lib.function_base.vectorize object at 0x115206710>, True, False, False\n",
      "0.988, 0.004, 6000, (3, 5), <numpy.lib.function_base.vectorize object at 0x115206710>, False, True, True\n",
      "0.986, 0.004, 6000, (3, 5), <numpy.lib.function_base.vectorize object at 0x115206710>, False, True, False\n",
      "0.988, 0.005, 6000, (3, 5), <numpy.lib.function_base.vectorize object at 0x115206710>, False, False, True\n",
      "0.986, 0.004, 6000, (3, 5), <numpy.lib.function_base.vectorize object at 0x115206710>, False, False, False\n",
      "0.988, 0.005, 10000, (3, 3), None, True, True, True\n",
      "0.987, 0.005, 10000, (3, 3), None, True, True, False\n",
      "0.988, 0.006, 10000, (3, 3), None, True, False, True\n",
      "0.986, 0.004, 10000, (3, 3), None, True, False, False\n",
      "0.991, 0.005, 10000, (3, 3), None, False, True, True\n",
      "0.987, 0.004, 10000, (3, 3), None, False, True, False\n",
      "0.990, 0.004, 10000, (3, 3), None, False, False, True\n",
      "0.987, 0.004, 10000, (3, 3), None, False, False, False\n",
      "0.986, 0.006, 10000, (3, 3), <numpy.lib.function_base.vectorize object at 0x115206710>, True, True, True\n",
      "0.985, 0.004, 10000, (3, 3), <numpy.lib.function_base.vectorize object at 0x115206710>, True, True, False\n",
      "0.985, 0.005, 10000, (3, 3), <numpy.lib.function_base.vectorize object at 0x115206710>, True, False, True\n",
      "0.984, 0.004, 10000, (3, 3), <numpy.lib.function_base.vectorize object at 0x115206710>, True, False, False\n",
      "0.988, 0.004, 10000, (3, 3), <numpy.lib.function_base.vectorize object at 0x115206710>, False, True, True\n",
      "0.985, 0.004, 10000, (3, 3), <numpy.lib.function_base.vectorize object at 0x115206710>, False, True, False\n",
      "0.988, 0.004, 10000, (3, 3), <numpy.lib.function_base.vectorize object at 0x115206710>, False, False, True\n",
      "0.985, 0.004, 10000, (3, 3), <numpy.lib.function_base.vectorize object at 0x115206710>, False, False, False\n",
      "0.983, 0.005, 10000, (4, 4), None, True, True, True\n",
      "0.983, 0.004, 10000, (4, 4), None, True, True, False\n",
      "0.983, 0.005, 10000, (4, 4), None, True, False, True\n",
      "0.983, 0.004, 10000, (4, 4), None, True, False, False\n",
      "0.989, 0.005, 10000, (4, 4), None, False, True, True\n",
      "0.987, 0.005, 10000, (4, 4), None, False, True, False\n",
      "0.989, 0.005, 10000, (4, 4), None, False, False, True\n",
      "0.987, 0.005, 10000, (4, 4), None, False, False, False\n",
      "0.984, 0.005, 10000, (4, 4), <numpy.lib.function_base.vectorize object at 0x115206710>, True, True, True\n",
      "0.983, 0.004, 10000, (4, 4), <numpy.lib.function_base.vectorize object at 0x115206710>, True, True, False\n",
      "0.984, 0.005, 10000, (4, 4), <numpy.lib.function_base.vectorize object at 0x115206710>, True, False, True\n",
      "0.983, 0.005, 10000, (4, 4), <numpy.lib.function_base.vectorize object at 0x115206710>, True, False, False\n",
      "0.989, 0.005, 10000, (4, 4), <numpy.lib.function_base.vectorize object at 0x115206710>, False, True, True\n",
      "0.986, 0.005, 10000, (4, 4), <numpy.lib.function_base.vectorize object at 0x115206710>, False, True, False\n",
      "0.989, 0.005, 10000, (4, 4), <numpy.lib.function_base.vectorize object at 0x115206710>, False, False, True\n",
      "0.986, 0.006, 10000, (4, 4), <numpy.lib.function_base.vectorize object at 0x115206710>, False, False, False\n",
      "0.986, 0.006, 10000, (3, 5), None, True, True, True\n",
      "0.986, 0.005, 10000, (3, 5), None, True, True, False\n",
      "0.986, 0.007, 10000, (3, 5), None, True, False, True\n",
      "0.986, 0.005, 10000, (3, 5), None, True, False, False\n",
      "0.989, 0.005, 10000, (3, 5), None, False, True, True\n",
      "0.987, 0.004, 10000, (3, 5), None, False, True, False\n",
      "0.989, 0.005, 10000, (3, 5), None, False, False, True\n",
      "0.987, 0.004, 10000, (3, 5), None, False, False, False\n",
      "0.985, 0.007, 10000, (3, 5), <numpy.lib.function_base.vectorize object at 0x115206710>, True, True, True\n",
      "0.985, 0.005, 10000, (3, 5), <numpy.lib.function_base.vectorize object at 0x115206710>, True, True, False\n",
      "0.985, 0.007, 10000, (3, 5), <numpy.lib.function_base.vectorize object at 0x115206710>, True, False, True\n",
      "0.985, 0.005, 10000, (3, 5), <numpy.lib.function_base.vectorize object at 0x115206710>, True, False, False\n",
      "0.989, 0.005, 10000, (3, 5), <numpy.lib.function_base.vectorize object at 0x115206710>, False, True, True\n",
      "0.986, 0.004, 10000, (3, 5), <numpy.lib.function_base.vectorize object at 0x115206710>, False, True, False\n",
      "0.989, 0.004, 10000, (3, 5), <numpy.lib.function_base.vectorize object at 0x115206710>, False, False, True\n",
      "0.986, 0.004, 10000, (3, 5), <numpy.lib.function_base.vectorize object at 0x115206710>, False, False, False\n"
     ]
    }
   ],
   "source": [
    "print_best_estimator(gs)\n",
    "print(\"\\n---------\\n\")\n",
    "print_scores_csv(gs)"
   ]
  },
  {
   "cell_type": "markdown",
   "metadata": {},
   "source": [
    "## Evaluating the best estimator found"
   ]
  },
  {
   "cell_type": "code",
   "execution_count": 14,
   "metadata": {},
   "outputs": [
    {
     "data": {
      "text/plain": [
       "{'analyzer': 'char',\n",
       " 'binary': False,\n",
       " 'decode_error': 'strict',\n",
       " 'dtype': numpy.int64,\n",
       " 'encoding': 'utf-8',\n",
       " 'input': 'content',\n",
       " 'lowercase': True,\n",
       " 'max_df': 1.0,\n",
       " 'max_features': 10000,\n",
       " 'min_df': 1,\n",
       " 'ngram_range': (3, 3),\n",
       " 'norm': 'l2',\n",
       " 'preprocessor': None,\n",
       " 'sanitizer': None,\n",
       " 'sg_only': False,\n",
       " 'smooth_idf': True,\n",
       " 'stop_words': None,\n",
       " 'strip_accents': None,\n",
       " 'sublinear_tf': True,\n",
       " 'token_pattern': '(?u)\\\\b\\\\w\\\\w+\\\\b',\n",
       " 'tokenizer': None,\n",
       " 'use_idf': True,\n",
       " 'vocabulary': None}"
      ]
     },
     "execution_count": 14,
     "metadata": {},
     "output_type": "execute_result"
    }
   ],
   "source": [
    "gs.best_estimator_.named_steps['vect'].get_params()"
   ]
  },
  {
   "cell_type": "code",
   "execution_count": 61,
   "metadata": {},
   "outputs": [
    {
     "data": {
      "text/plain": [
       "Pipeline(memory=None,\n",
       "     steps=[('vec', WrappedVectorizer(sg_only=False, sanitizer=None, analyzer='char', binary=False, decode_error='strict', dtype=<class 'numpy.int64'>, encoding='utf-8', input='content', lowercase=True, max_df=1.0, max_features=10000, min_df=1, ngram_range=(3, 3), norm='l2', preprocessor=None, smooth_idf...ty='l2', random_state=None, solver='liblinear', tol=0.0001,\n",
       "          verbose=0, warm_start=False))])"
      ]
     },
     "execution_count": 61,
     "metadata": {},
     "output_type": "execute_result"
    }
   ],
   "source": [
    "best_pipe = Pipeline(steps=[\n",
    "    ('vec', WrappedVectorizer(**gs.best_estimator_.named_steps['vect'].get_params())),\n",
    "    ('clf', LogisticRegression())\n",
    "])\n",
    "\n",
    "best_pipe.fit(X_train, y_train)"
   ]
  },
  {
   "cell_type": "code",
   "execution_count": 141,
   "metadata": {
    "scrolled": false
   },
   "outputs": [
    {
     "name": "stdout",
     "output_type": "stream",
     "text": [
      "TEST SET\n",
      "========\n",
      "             precision    recall  f1-score   support\n",
      "\n",
      "         de     0.9959    0.9911    0.9935      1462\n",
      "         fr     0.9980    0.9986    0.9983      1468\n",
      "         en     0.9974    0.9954    0.9964      1538\n",
      "         it     0.9986    0.9960    0.9973      1482\n",
      "         sg     0.9869    0.9958    0.9913      1438\n",
      "\n",
      "avg / total     0.9954    0.9954    0.9954      7388\n",
      "\n"
     ]
    },
    {
     "data": {
      "image/png": "[encoded data removed]",
      "text/plain": [
       "<matplotlib.figure.Figure at 0x115ae7320>"
      ]
     },
     "metadata": {},
     "output_type": "display_data"
    },
    {
     "name": "stdout",
     "output_type": "stream",
     "text": [
      "SMS RECALL\n",
      "==========\n",
      "total samples    10692\n",
      "total errors        54 (0.51%)\n",
      "---------------------------------\n",
      "languages detected\n",
      "    de       50\n",
      "    fr        1\n",
      "    en        1\n",
      "    it        2\n",
      "    sg    10638\n",
      "\n",
      "\n",
      "VALIDATION SET\n",
      "===============\n",
      "             precision    recall  f1-score   support\n",
      "\n",
      "         de     0.9478    0.9858    0.9664      2613\n",
      "         fr     0.9992    0.9981    0.9987      2613\n",
      "         en     0.9969    0.9950    0.9960      2613\n",
      "         it     0.9977    0.9981    0.9979      2613\n",
      "         sg     0.9793    0.9426    0.9606      2613\n",
      "\n",
      "avg / total     0.9842    0.9839    0.9839     13065\n",
      "\n"
     ]
    },
    {
     "data": {
      "image/png": "[encoded data removed]",
      "text/plain": [
       "<matplotlib.figure.Figure at 0x1159f2128>"
      ]
     },
     "metadata": {},
     "output_type": "display_data"
    }
   ],
   "source": [
    "print(\"TEST SET\")\n",
    "print(\"========\")\n",
    "y_pred = best_pipe.predict(X_test)\n",
    "print_results(y_test, y_pred)\n",
    "plot_confusion_matrix(y_test, y_pred, normalised=True)\n",
    "\n",
    "print(\"SMS RECALL\")\n",
    "print(\"==========\")\n",
    "\n",
    "test_recall_with_sms(best_pipe)\n",
    "\n",
    "print(\"\\n\\nVALIDATION SET\")\n",
    "print(\"===============\")\n",
    "y_valid_pred = best_pipe.predict(X_valid)\n",
    "print_results(y_valid, y_valid_pred)\n",
    "plot_confusion_matrix(y_valid, y_valid_pred, normalised=True)"
   ]
  },
  {
   "cell_type": "code",
   "execution_count": 164,
   "metadata": {
    "scrolled": false
   },
   "outputs": [
    {
     "name": "stdout",
     "output_type": "stream",
     "text": [
      "Testing on SMS any\n",
      "==================\n",
      "\n",
      "             precision    recall  f1-score   support\n",
      "\n",
      "         de     1.0000    0.7512    0.8580       201\n",
      "         fr     0.9946    0.9204    0.9561       201\n",
      "         en     0.9930    0.7065    0.8256       201\n",
      "         it     1.0000    0.9602    0.9797       201\n",
      "         sg     0.6054    1.0000    0.7542       201\n",
      "\n",
      "avg / total     0.9186    0.8677    0.8747      1005\n",
      "\n",
      "\n",
      "Errors per language:\n",
      "\n",
      "  de:   50\n",
      "  fr:   16\n",
      "  en:   59\n",
      "  it:    8\n",
      "\n",
      "Sample errors:\n",
      "\n",
      "real|predicted  <sentence>\n",
      "--------------------------\n",
      "  fr|sg   Moi ossi! A tt a l h!\n",
      "  en|sg   Hey you!how are you?!\n",
      "  de|sg   Ja. Dr. Shepard..\n",
      "  de|sg   Es regnet jedenfalls nicht, wir hoffen immer noch auf Sonne. Schönen Nachmittag!\n",
      "  de|sg   schon aufm heimweg? Eta stäfa?\n",
      "  de|sg   Kann ich anrufen?\n",
      "  en|sg   Good night,my hero.\n",
      "  de|sg   Gut, abgemacht. Bis morgen!\n",
      "  de|sg   Au ja, gerne! Wann & wo wollen wir uns treffen? Ich könnt so ab 18.30 Uhr\n",
      "  de|sg   Paßt gern ja.\n",
      "  en|sg   I am busy right now. I'll call you back later.tiziano\n",
      "  de|sg   Hallo Du! Heute um 20.50 Uhr bei mir? Ich freu mich! Gruss, Lorraine\n",
      "  en|sg   Hope u r sleeping good! I go dreaming in u'r arms so deep, love u priska <3 xxx\n",
      "  en|sg   Heya my love, I've put some lunch on your car. Muah\n",
      "  en|sg   Dont be shy never get drunk alone!!!!\n",
      "  fr|sg   Oui! Gros bisous. Bonne nuit:-)\n",
      "  en|sg   Hi Kam,did you got the letter?\n",
      "  de|sg   Um 19.45 znacht... Mit Jeanine?\n",
      "  de|sg   Da freue ich mich auch drauf. Mir gehts gut. Pass auf dich auf.. Kuß\n",
      "  it|sg   Mmmmm... Ravioli! Baci e sogni d'oro\n"
     ]
    }
   ],
   "source": [
    "print(\"Testing on SMS any\")\n",
    "print(\"==================\\n\")\n",
    "\n",
    "sms_any_predicted = best_pipe.predict(sms_any_X)\n",
    "print_results(sms_any_y, sms_any_predicted)\n",
    "print()\n",
    "print_errors_per_lang(sms_any_y, sms_any_predicted)\n",
    "print_sample_errors(sms_any_X, sms_any_y, sms_any_predicted, limit=20)"
   ]
  },
  {
   "cell_type": "markdown",
   "metadata": {},
   "source": [
    "# Understanding the errors better"
   ]
  },
  {
   "cell_type": "code",
   "execution_count": 170,
   "metadata": {},
   "outputs": [],
   "source": [
    "errors_idx = np.argwhere(sms_any_y != sms_any_predicted).flatten()"
   ]
  },
  {
   "cell_type": "code",
   "execution_count": 171,
   "metadata": {},
   "outputs": [
    {
     "name": "stdout",
     "output_type": "stream",
     "text": [
      "English sentences taken for Swiss German:\n",
      "=========================================\n",
      "\n",
      "Babe...babe...i'm back again.i tell you i'm back again.i'm ba-hack again.babe...\n",
      "Gd ngt my love, am so tired. Sleep well. kisss\n",
      "Guess what? few min. late 8-|...sorry\n",
      "Hi magi I rec ur message say hello to bengi Love mel.\n",
      "Hope u r sleeping good! I go dreaming in u'r arms so deep, love u priska <3 xxx\n",
      "Happy Birthday to you!\n",
      "I am busy right now. I'll call you back later.tiziano\n",
      "Hi celine. Monday 12.15 john\n",
      "Should we go for a drink now?\n",
      "Dont be shy never get drunk alone!!!!\n",
      "I wane be loved by you,just you,nobody else bud you. I wana be kißed by you alone schuschubidu\n",
      "Did u see it?\n",
      "Very true... :-) u coming 2 pala 2nite?\n",
      "I just kiss you betwern your legs :-) - CU soon...\n",
      "Yessss! And I love it!!! :-)))\n",
      "Tx big man, im in bed with flu ;-( will be in bdos in nov. Kiß magi & iwan\n",
      "14. November! Love u:-*\n",
      "Hey kiwi, u here soon?\n",
      "Where R U?\n",
      "S T A R T xxxxxxxxxxxxxxxxxxxx@yyy.ch\n",
      "c u soon babes x's\n",
      "How about lunch next week?B-)\n",
      "Aiii äm wot ai ääm aiäm mai oon speschl kriäischnn\n",
      "8??!! Ok i come at 8pm, ok?\n",
      "How is it looking?\n",
      "Yes i miss you too! Can't wait to have you back! :-) kiss\n",
      "I not gay\n",
      "Heya my love, I've put some lunch on your car. Muah\n",
      "We love you\n",
      "Sharpshooter 4 life\n",
      "I am late. 15h.\n",
      "Hau lucks itt?\n",
      "Time for quick game?\n",
      "Whats up here we go?\n",
      "Usual question NNNN Oerlikon? today\n",
      "Irc @ 02:13? Gotta talk.\n",
      "IM SICK AGAIN, NOW I STAY AIRPORT, I FLY HOME..GOOD BY\n",
      "Good night,my hero.\n",
      "take you time. I'm here\n",
      "You've got m@il ;-)\n",
      "u want me to fetch u? did u go by bike or car?\n",
      "Hi corrina. Where are u?\n",
      "mouseface :-) ;-)\n",
      "Morning Fridl Texas Ranger Éléonore Reymond,ch.des Laurelles 54,NNNN Gland,NNNNNNNNNN\n",
      "Hey you!how are you?!\n",
      "Hi No see you 13.00h take care! y's g\n",
      "Christophe you don't said me, when do you will cam with me ;)  greez Silu\n",
      "Hi dear, how are you? Over here all well. Missing you big time! Huggies :-)\n",
      "You like swiss or Thai stuff for dinner?\n",
      "You've got mail! :)\n",
      "You've got an e-mail in your inbox!\n",
      ":) ok! :)\n",
      "Yup, it sure is!\n",
      "Hi Kam,did you got the letter?\n",
      "I miss you:-|\n",
      "Hey we're gonna see us tomorrow, right?not next week?lilu\n",
      "9.10 if u want to\n",
      "Happy birthday 2u\n",
      "Yes had dinner with batty\n"
     ]
    }
   ],
   "source": [
    "print(\"English sentences taken for Swiss German:\")\n",
    "print(\"=========================================\\n\")\n",
    "for i in errors_idx: \n",
    "    if sms_any_y[i] == 2:\n",
    "        print(sms_any_X[i])"
   ]
  },
  {
   "cell_type": "markdown",
   "metadata": {},
   "source": [
    "# Using probabilities"
   ]
  },
  {
   "cell_type": "code",
   "execution_count": 175,
   "metadata": {},
   "outputs": [],
   "source": [
    "valid_proba = best_pipe.predict_proba(X_valid)\n",
    "valid_bin = np.array(y_valid == 4, dtype=int)"
   ]
  },
  {
   "cell_type": "code",
   "execution_count": 178,
   "metadata": {},
   "outputs": [
    {
     "name": "stdout",
     "output_type": "stream",
     "text": [
      "Actual Swiss German:  2613\n",
      "Predicted Swiss German using probability filter: \n",
      "  p >= 50: 2472\n",
      "  p >= 70: 2340\n",
      "  p >= 80: 2187\n",
      "  p >= 85: 1974\n",
      "  p >= 90: 1595\n",
      "  p >= 95: 690\n"
     ]
    }
   ],
   "source": [
    "print(\"Actual Swiss German: \", valid_bin.sum())\n",
    "print(\"Predicted Swiss German using probability filter: \")\n",
    "for proba in [0.5, 0.7, 0.8, 0.85, 0.9, 0.95]:\n",
    "    print(\"  p >= %d: %d\" % (proba * 100, np.array(valid_proba[:,4] >= proba, dtype=int).sum()))"
   ]
  },
  {
   "cell_type": "code",
   "execution_count": 181,
   "metadata": {},
   "outputs": [
    {
     "name": "stdout",
     "output_type": "stream",
     "text": [
      "             precision    recall  f1-score   support\n",
      "\n",
      "     Not SG     0.9607    0.9999    0.9799     10452\n",
      "         SG     0.9995    0.8366    0.9108      2613\n",
      "\n",
      "avg / total     0.9685    0.9672    0.9661     13065\n",
      "\n"
     ]
    },
    {
     "data": {
      "image/png": "[encoded data removed]",
      "text/plain": [
       "<matplotlib.figure.Figure at 0x1a212d61d0>"
      ]
     },
     "metadata": {},
     "output_type": "display_data"
    }
   ],
   "source": [
    "labels = ['Not SG', 'SG']\n",
    "proba_pred = np.array(valid_proba[:,4] >= 0.8, dtype=int)\n",
    "print_results(valid_bin, proba_pred, labels=labels)\n",
    "plot_confusion_matrix(valid_bin, proba_pred, normalised=True, labels=labels, figsize=(5,3))"
   ]
  },
  {
   "cell_type": "code",
   "execution_count": 188,
   "metadata": {},
   "outputs": [
    {
     "name": "stdout",
     "output_type": "stream",
     "text": [
      "Sample of Swiss German sentences misclassified (min proba=0.85):\n",
      "\n",
      "R|P  proba sentence\n",
      "-------------------\n",
      "1|0 (0.57) I de andere Lager; Pfingstweekend, Herbstlager und Chlausweekend chömed denn au die andere Meutene dezue.\n",
      "1|0 (0.45) Winterthur, «Die Schweiz als produktive Fiktion.\n",
      "1|0 (0.81) S lager esch au scho ferbi :-(.wenn gets denn d fotis vom lager 2004?\n",
      "1|0 (0.68) Die Tambouren der Schnoogekerzli mit dem Sujet Herr und Herr Fasnacht.\n",
      "1|0 (0.17) Bedeutungsbildung in Text und Bild“ auf Schloss Nymphenburg, 18.3.\n",
      "1|0 (0.85) Mir wüsse nid, was jetz do geit.\n",
      "1|0 (0.06) Zürcher Ratshausvortrag, gehalten am 7. März 1918, in: Neue Zürcher Zeitung 393/398 (1918).\n",
      "1|0 (0.64) Mir z Basel finde die Reegle doch seer kommod, hejoo, stäärbe d Zircher friener – sin si lenger dood!\n",
      "1|0 (0.21) Freiburg i.Br: Arbeitskreis Regionalgeschichte Freiburg e. V. Freiburg i.Br., 2013.\n",
      "1|0 (0.43) Cholgruebe / Cholgrueben (App. und Name) (Metzerlen-Mariastein SO) Eh.\n",
      "1|0 (0.59) Facharzt FMH für Kardiologie u. Innere Medizin kardiologie@paracelsus-spital.ch Dr. med.\n",
      "1|0 (0.80) Drum bitte alli abelade!\n",
      "1|0 (0.80) Was? dr Manu kriegt grad ganzi Interview-Reihe?\n",
      "1|0 (0.80) Achtung: Mä chunnt nume zur Hütte solang d Skilifte loufe.\n",
      "1|0 (0.55) D See und Berge rund um Wanaka und Queenstown bildet d Kulisse fuer einigi Szene us \"Herr der Ringe\".\n",
      "1|0 (0.84) Dee Tourischteort, vorallem au für d Australier sälber.\n",
      "1|0 (0.33) Region Waadt/ Unterwallis Gérant(e) ou couple de géra..\n",
      "1|0 (0.75) Info vo da Smokie 14 März 2010 14:47 Do chan i au as Lied darüber singa ( mit passender Melodie.\n",
      "1|0 (0.19) Der Turnfreund : Organ des Bürgerturnvereins Basel.\n",
      "1|0 (0.72) Horwer-Kolonne-Nochfasnachtsprogramm 2014 20. Juni Grömpi-Fritig met de Schpelvereinigong HK-HSK 1. - 3. Auguscht HK-Jubiläoms-Schüsesetzig 2015 im Nizza ond z'Monaco (organisiert by Zöri) Bes zom letschte Guuggerton möched mer das Johr de Glohn!\n"
     ]
    }
   ],
   "source": [
    "min_proba = 0.85\n",
    "proba_pred = np.array(valid_proba[:,4] >= min_proba, dtype=int)\n",
    "print(\"Sample of Swiss German sentences misclassified (min proba=%.2f):\\n\" % min_proba)\n",
    "print(\"R|P  proba sentence\")\n",
    "print(\"-------------------\")\n",
    "err_idx = np.where(valid_bin != proba_pred)[0]\n",
    "for i in random.sample(err_idx.tolist(), 20):\n",
    "    print(\"%d|%d (%.2f) %s\" % (valid_bin[i], proba_pred[i], valid_proba[i, 4], X_valid[i]))"
   ]
  },
  {
   "cell_type": "code",
   "execution_count": 184,
   "metadata": {},
   "outputs": [
    {
     "name": "stdout",
     "output_type": "stream",
     "text": [
      "Average precision-recall score: 0.80\n"
     ]
    },
    {
     "data": {
      "text/plain": [
       "Text(0.5,1,'2-class Precision-Recall curve: AP=0.80')"
      ]
     },
     "execution_count": 184,
     "metadata": {},
     "output_type": "execute_result"
    },
    {
     "data": {
      "image/png": "[encoded data removed]",
      "text/plain": [
       "<matplotlib.figure.Figure at 0x1a21c01048>"
      ]
     },
     "metadata": {},
     "output_type": "display_data"
    }
   ],
   "source": [
    "from sklearn.metrics import precision_recall_curve, average_precision_score\n",
    "average_precision = average_precision_score(valid_bin, proba_pred)\n",
    "\n",
    "print('Average precision-recall score: {0:0.2f}'.format(average_precision))\n",
    "precision, recall, _ = precision_recall_curve(valid_bin, proba_pred)\n",
    "\n",
    "plt.step(recall, precision, color='b', alpha=0.2, where='post')\n",
    "plt.fill_between(recall, precision, step='post', alpha=0.2, color='b')\n",
    "\n",
    "plt.xlabel('Recall')\n",
    "plt.ylabel('Precision')\n",
    "plt.ylim([0.0, 1.05])\n",
    "plt.xlim([0.0, 1.0])\n",
    "plt.title('2-class Precision-Recall curve: AP={0:0.2f}'.format(average_precision))"
   ]
  },
  {
   "cell_type": "code",
   "execution_count": null,
   "metadata": {},
   "outputs": [],
   "source": []
  }
 ],
 "metadata": {
  "kernelspec": {
   "display_name": "Python 3",
   "language": "python",
   "name": "python3"
  },
  "language_info": {
   "codemirror_mode": {
    "name": "ipython",
    "version": 3
   },
   "file_extension": ".py",
   "mimetype": "text/x-python",
   "name": "python",
   "nbconvert_exporter": "python",
   "pygments_lexer": "ipython3",
   "version": "3.6.4"
  }
 },
 "nbformat": 4,
 "nbformat_minor": 2
}
