{
 "cells": [
  {
   "cell_type": "markdown",
   "metadata": {},
   "source": [
    "# Sanitization\n",
    "\n",
    "In this notebook, we try some sanitization approaches."
   ]
  },
  {
   "cell_type": "code",
   "execution_count": 8,
   "metadata": {},
   "outputs": [],
   "source": [
    "%run notebook_utils.py"
   ]
  },
  {
   "cell_type": "code",
   "execution_count": 23,
   "metadata": {},
   "outputs": [],
   "source": [
    "import pandas as pd\n",
    "import re\n",
    "import matplotlib\n",
    "import random\n",
    "\n",
    "# set big font in plots\n",
    "SMALL_SIZE = 16\n",
    "matplotlib.rc('font', size=SMALL_SIZE)\n",
    "matplotlib.rc('axes', titlesize=SMALL_SIZE)\n",
    "\n",
    "%matplotlib inline"
   ]
  },
  {
   "cell_type": "code",
   "execution_count": 10,
   "metadata": {},
   "outputs": [],
   "source": [
    "X, y = load_data()\n",
    "y_labels = [langs[i] for i in y]"
   ]
  },
  {
   "cell_type": "markdown",
   "metadata": {},
   "source": [
    "# Statistics about the dataset\n",
    "\n",
    "Begin by better understanding the dataset."
   ]
  },
  {
   "cell_type": "markdown",
   "metadata": {},
   "source": [
    "## Length of the samples\n",
    "\n",
    "As shown below, one problem is that the average length of the sentences is quite different between Swiss German and non Swiss German sentences. As a result, using tf normalisation in the vectorizer will be important."
   ]
  },
  {
   "cell_type": "code",
   "execution_count": 11,
   "metadata": {},
   "outputs": [],
   "source": [
    "# create a dataframe\n",
    "df = pd.DataFrame({'x': X, 'y': y, 'y_label': y_labels})\n",
    "# add a column with the length of each sentence\n",
    "df['x_len'] = df['x'].apply(len)"
   ]
  },
  {
   "cell_type": "code",
   "execution_count": 12,
   "metadata": {},
   "outputs": [
    {
     "name": "stdout",
     "output_type": "stream",
     "text": [
      "Statistics about the size of the data:\n",
      "\n"
     ]
    },
    {
     "data": {
      "text/plain": [
       "count    36939.000000\n",
       "mean       117.385934\n",
       "std         58.424855\n",
       "min          0.000000\n",
       "25%         73.000000\n",
       "50%        110.000000\n",
       "75%        156.000000\n",
       "max        805.000000\n",
       "Name: x_len, dtype: float64"
      ]
     },
     "execution_count": 12,
     "metadata": {},
     "output_type": "execute_result"
    }
   ],
   "source": [
    "print(\"Statistics about the size of the data:\\n\")\n",
    "df['x_len'].describe()"
   ]
  },
  {
   "cell_type": "code",
   "execution_count": 13,
   "metadata": {},
   "outputs": [
    {
     "name": "stdout",
     "output_type": "stream",
     "text": [
      "Statistics about the size of the data, grouped by label:\n"
     ]
    },
    {
     "data": {
      "text/html": [
       "<div>\n",
       "<style scoped>\n",
       "    .dataframe tbody tr th:only-of-type {\n",
       "        vertical-align: middle;\n",
       "    }\n",
       "\n",
       "    .dataframe tbody tr th {\n",
       "        vertical-align: top;\n",
       "    }\n",
       "\n",
       "    .dataframe thead th {\n",
       "        text-align: right;\n",
       "    }\n",
       "</style>\n",
       "<table border=\"1\" class=\"dataframe\">\n",
       "  <thead>\n",
       "    <tr style=\"text-align: right;\">\n",
       "      <th></th>\n",
       "      <th>count</th>\n",
       "      <th>mean</th>\n",
       "      <th>std</th>\n",
       "      <th>min</th>\n",
       "      <th>25%</th>\n",
       "      <th>50%</th>\n",
       "      <th>75%</th>\n",
       "      <th>max</th>\n",
       "    </tr>\n",
       "    <tr>\n",
       "      <th>y_label</th>\n",
       "      <th></th>\n",
       "      <th></th>\n",
       "      <th></th>\n",
       "      <th></th>\n",
       "      <th></th>\n",
       "      <th></th>\n",
       "      <th></th>\n",
       "      <th></th>\n",
       "    </tr>\n",
       "  </thead>\n",
       "  <tbody>\n",
       "    <tr>\n",
       "      <th>de</th>\n",
       "      <td>7388.0</td>\n",
       "      <td>121.413238</td>\n",
       "      <td>52.378233</td>\n",
       "      <td>0.0</td>\n",
       "      <td>80.00</td>\n",
       "      <td>113.0</td>\n",
       "      <td>157.0</td>\n",
       "      <td>255.0</td>\n",
       "    </tr>\n",
       "    <tr>\n",
       "      <th>en</th>\n",
       "      <td>7388.0</td>\n",
       "      <td>128.125880</td>\n",
       "      <td>53.234784</td>\n",
       "      <td>0.0</td>\n",
       "      <td>87.75</td>\n",
       "      <td>122.0</td>\n",
       "      <td>165.0</td>\n",
       "      <td>255.0</td>\n",
       "    </tr>\n",
       "    <tr>\n",
       "      <th>fr</th>\n",
       "      <td>7388.0</td>\n",
       "      <td>121.761640</td>\n",
       "      <td>53.323961</td>\n",
       "      <td>0.0</td>\n",
       "      <td>80.00</td>\n",
       "      <td>115.0</td>\n",
       "      <td>157.0</td>\n",
       "      <td>255.0</td>\n",
       "    </tr>\n",
       "    <tr>\n",
       "      <th>it</th>\n",
       "      <td>7388.0</td>\n",
       "      <td>132.319978</td>\n",
       "      <td>54.441031</td>\n",
       "      <td>0.0</td>\n",
       "      <td>90.00</td>\n",
       "      <td>126.0</td>\n",
       "      <td>171.0</td>\n",
       "      <td>255.0</td>\n",
       "    </tr>\n",
       "    <tr>\n",
       "      <th>sg</th>\n",
       "      <td>7387.0</td>\n",
       "      <td>83.304318</td>\n",
       "      <td>64.414510</td>\n",
       "      <td>0.0</td>\n",
       "      <td>37.00</td>\n",
       "      <td>66.0</td>\n",
       "      <td>113.0</td>\n",
       "      <td>805.0</td>\n",
       "    </tr>\n",
       "  </tbody>\n",
       "</table>\n",
       "</div>"
      ],
      "text/plain": [
       "          count        mean        std  min    25%    50%    75%    max\n",
       "y_label                                                                \n",
       "de       7388.0  121.413238  52.378233  0.0  80.00  113.0  157.0  255.0\n",
       "en       7388.0  128.125880  53.234784  0.0  87.75  122.0  165.0  255.0\n",
       "fr       7388.0  121.761640  53.323961  0.0  80.00  115.0  157.0  255.0\n",
       "it       7388.0  132.319978  54.441031  0.0  90.00  126.0  171.0  255.0\n",
       "sg       7387.0   83.304318  64.414510  0.0  37.00   66.0  113.0  805.0"
      ]
     },
     "execution_count": 13,
     "metadata": {},
     "output_type": "execute_result"
    }
   ],
   "source": [
    "print(\"Statistics about the size of the data, grouped by label:\")\n",
    "df.groupby('y_label')['x_len'].describe()"
   ]
  },
  {
   "cell_type": "code",
   "execution_count": 24,
   "metadata": {},
   "outputs": [
    {
     "data": {
      "image/png": "[encoded data removed]",
      "text/plain": [
       "<matplotlib.figure.Figure at 0x11224f5c0>"
      ]
     },
     "metadata": {},
     "output_type": "display_data"
    }
   ],
   "source": [
    "_ = df['x_len'].hist(by=df['y_label'], figsize=(15,6), layout=(2,3))"
   ]
  },
  {
   "cell_type": "markdown",
   "metadata": {},
   "source": [
    "## Sanitization 1: remove all non-letter"
   ]
  },
  {
   "cell_type": "code",
   "execution_count": 8,
   "metadata": {},
   "outputs": [],
   "source": [
    "reg_nonletters = re.compile(\"[^\\w ]|\\d|_\")\n",
    "\n",
    "def remove_nonletters(text: str) -> str: return re.sub(reg_nonletters, \" \", text)\n",
    "\n",
    "def remove_manyspaces(text: str) -> str: return re.sub(r'\\s+', ' ', text)\n",
    "\n",
    "def sanitize(text: str) -> str:\n",
    "    text = remove_nonletters(text)\n",
    "    text = remove_manyspaces(text)\n",
    "    return text.strip()"
   ]
  },
  {
   "cell_type": "code",
   "execution_count": 9,
   "metadata": {},
   "outputs": [],
   "source": [
    "df['x_san'] = df['x'].apply(lambda x: sanitize(x))\n",
    "df['x_san_len'] = df['x_san'].apply(len)\n",
    "df['x_diff_len'] = df.apply(lambda r: r['x_len'] - r['x_san_len'], axis=1)"
   ]
  },
  {
   "cell_type": "code",
   "execution_count": 10,
   "metadata": {},
   "outputs": [
    {
     "name": "stdout",
     "output_type": "stream",
     "text": [
      "Number of non-letters removed:\n"
     ]
    },
    {
     "data": {
      "text/html": [
       "<div>\n",
       "<style scoped>\n",
       "    .dataframe tbody tr th:only-of-type {\n",
       "        vertical-align: middle;\n",
       "    }\n",
       "\n",
       "    .dataframe tbody tr th {\n",
       "        vertical-align: top;\n",
       "    }\n",
       "\n",
       "    .dataframe thead th {\n",
       "        text-align: right;\n",
       "    }\n",
       "</style>\n",
       "<table border=\"1\" class=\"dataframe\">\n",
       "  <thead>\n",
       "    <tr style=\"text-align: right;\">\n",
       "      <th></th>\n",
       "      <th>count</th>\n",
       "      <th>mean</th>\n",
       "      <th>std</th>\n",
       "      <th>min</th>\n",
       "      <th>25%</th>\n",
       "      <th>50%</th>\n",
       "      <th>75%</th>\n",
       "      <th>max</th>\n",
       "    </tr>\n",
       "    <tr>\n",
       "      <th>y_label</th>\n",
       "      <th></th>\n",
       "      <th></th>\n",
       "      <th></th>\n",
       "      <th></th>\n",
       "      <th></th>\n",
       "      <th></th>\n",
       "      <th></th>\n",
       "      <th></th>\n",
       "    </tr>\n",
       "  </thead>\n",
       "  <tbody>\n",
       "    <tr>\n",
       "      <th>de</th>\n",
       "      <td>7388.0</td>\n",
       "      <td>5.883730</td>\n",
       "      <td>5.947939</td>\n",
       "      <td>0.0</td>\n",
       "      <td>2.0</td>\n",
       "      <td>4.0</td>\n",
       "      <td>8.0</td>\n",
       "      <td>54.0</td>\n",
       "    </tr>\n",
       "    <tr>\n",
       "      <th>en</th>\n",
       "      <td>7388.0</td>\n",
       "      <td>5.374932</td>\n",
       "      <td>5.897636</td>\n",
       "      <td>0.0</td>\n",
       "      <td>2.0</td>\n",
       "      <td>3.0</td>\n",
       "      <td>7.0</td>\n",
       "      <td>64.0</td>\n",
       "    </tr>\n",
       "    <tr>\n",
       "      <th>fr</th>\n",
       "      <td>7388.0</td>\n",
       "      <td>5.000677</td>\n",
       "      <td>5.400026</td>\n",
       "      <td>0.0</td>\n",
       "      <td>1.0</td>\n",
       "      <td>3.0</td>\n",
       "      <td>7.0</td>\n",
       "      <td>49.0</td>\n",
       "    </tr>\n",
       "    <tr>\n",
       "      <th>it</th>\n",
       "      <td>7388.0</td>\n",
       "      <td>5.049134</td>\n",
       "      <td>5.355068</td>\n",
       "      <td>0.0</td>\n",
       "      <td>2.0</td>\n",
       "      <td>3.0</td>\n",
       "      <td>7.0</td>\n",
       "      <td>76.0</td>\n",
       "    </tr>\n",
       "    <tr>\n",
       "      <th>sg</th>\n",
       "      <td>7387.0</td>\n",
       "      <td>3.780019</td>\n",
       "      <td>4.939267</td>\n",
       "      <td>0.0</td>\n",
       "      <td>1.0</td>\n",
       "      <td>2.0</td>\n",
       "      <td>5.0</td>\n",
       "      <td>162.0</td>\n",
       "    </tr>\n",
       "  </tbody>\n",
       "</table>\n",
       "</div>"
      ],
      "text/plain": [
       "          count      mean       std  min  25%  50%  75%    max\n",
       "y_label                                                       \n",
       "de       7388.0  5.883730  5.947939  0.0  2.0  4.0  8.0   54.0\n",
       "en       7388.0  5.374932  5.897636  0.0  2.0  3.0  7.0   64.0\n",
       "fr       7388.0  5.000677  5.400026  0.0  1.0  3.0  7.0   49.0\n",
       "it       7388.0  5.049134  5.355068  0.0  2.0  3.0  7.0   76.0\n",
       "sg       7387.0  3.780019  4.939267  0.0  1.0  2.0  5.0  162.0"
      ]
     },
     "execution_count": 10,
     "metadata": {},
     "output_type": "execute_result"
    }
   ],
   "source": [
    "print(\"Number of non-letters removed:\")\n",
    "df.groupby('y_label')['x_diff_len'].describe()"
   ]
  },
  {
   "cell_type": "code",
   "execution_count": 11,
   "metadata": {},
   "outputs": [
    {
     "name": "stdout",
     "output_type": "stream",
     "text": [
      "Random samples, before and after sanitization: \n",
      "\n",
      "** Gradually, it spends more time away from its mother, and at 12 months it is fully weaned, weighing around convert.\n",
      "=> Gradually it spends more time away from its mother and at months it is fully weaned weighing around convert\n",
      "\n",
      "** Les toits devaient être végétalisés.\n",
      "=> Les toits devaient être végétalisés\n",
      "\n",
      "** Pérez commença par travailler avec Len Wein sur les histoires, mais finit par s'occuper seul des scénarios.\n",
      "=> Pérez commença par travailler avec Len Wein sur les histoires mais finit par s occuper seul des scénarios\n",
      "\n",
      "** Seitdem ist er ein gefragter Darsteller für TV- und Kinoproduktionen.\n",
      "=> Seitdem ist er ein gefragter Darsteller für TV und Kinoproduktionen\n",
      "\n",
      "** Im Rahmen von Parteisäuberungen und der Überprüfung von Westemigranten erhielt Lehmann 1950 einen Verweis und musste 1951 in die DDR übersiedeln.\n",
      "=> Im Rahmen von Parteisäuberungen und der Überprüfung von Westemigranten erhielt Lehmann einen Verweis und musste in die DDR übersiedeln\n",
      "\n",
      "** È un'orrida massa tentacolare di colore grigio scuro, e si narra sia la fonte ultima del male e dell'abominio.\n",
      "=> È un orrida massa tentacolare di colore grigio scuro e si narra sia la fonte ultima del male e dell abominio\n",
      "\n",
      "** vilicht höreds den uf z' hupe und z' pfiffe..\n",
      "=> vilicht höreds den uf z hupe und z pfiffe\n",
      "\n",
      "** D’ Website, wo in zwölf abrüefbare Sprache chan konsultiert werde, widerschpieglet s’ wältwiiti Interässi a de Marke.\n",
      "=> D Website wo in zwölf abrüefbare Sprache chan konsultiert werde widerschpieglet s wältwiiti Interässi a de Marke\n",
      "\n",
      "** Nei successivi sei anni, Williams girò (1942), Marching On!\n",
      "=> Nei successivi sei anni Williams girò Marching On\n",
      "\n",
      "** ;) Guuet Nacht!\n",
      "=> Guuet Nacht\n",
      "\n"
     ]
    }
   ],
   "source": [
    "print(\"Random samples, before and after sanitization: \")\n",
    "print()\n",
    "tmp = df[['x', 'x_san']].sample(n=10)\n",
    "for x, san in zip(tmp['x'], tmp['x_san']):\n",
    "    print(\"**\", x)\n",
    "    print(\"=>\", san)\n",
    "    print()"
   ]
  },
  {
   "cell_type": "markdown",
   "metadata": {},
   "source": [
    "## Sanitization 2: remove all non-letter, keep dots and commas\n",
    "\n",
    "We can see some advantages in keeping the dots and commas. Indeed, dots signal the end of a sentence, so is syntactically significant. However, there are a lot of edge cases: `...`, `p. 12 et p. 32` becoming `. .` etc."
   ]
  },
  {
   "cell_type": "code",
   "execution_count": 18,
   "metadata": {},
   "outputs": [],
   "source": [
    "reg_keep_dots = re.compile(\"[^\\w \\.,]|\\d|_\")\n",
    "\n",
    "def keep_dots(text: str) -> str: return re.sub(reg_keep_dots, \" \", text)\n",
    "\n",
    "def remove_manyspaces(text: str) -> str: return re.sub(r'\\s+', ' ', text)\n",
    "\n",
    "def sanitize_2(text: str) -> str:\n",
    "    text = keep_dots(text)\n",
    "    text = remove_manyspaces(text)\n",
    "    return text.strip()"
   ]
  },
  {
   "cell_type": "code",
   "execution_count": 19,
   "metadata": {},
   "outputs": [
    {
     "name": "stdout",
     "output_type": "stream",
     "text": [
      "Random samples, before and after sanitization v2: \n",
      "\n",
      "** However, Indian scholars have, in general, taken this as evidence for the existence of a Mahabharata at this date, whose episodes Dio or his sources identify with the story of the Iliad.\n",
      "=> However, Indian scholars have, in general, taken this as evidence for the existence of a Mahabharata at this date, whose episodes Dio or his sources identify with the story of the Iliad.\n",
      "\n",
      "** Inhaltsverzeichnis • 1 Verein ◦ 1.1 Verein in dr Schwyz ◦ 1.2 Stade Rennes ◦ 1.3 Borussia Dortmund ◦ 1.4 Fc Baasel • 2 Nationalmannschaft ◦ 2.1 Turnier • 3 Titel und Erfolg • 4 Netzglaicher( Weblingg) • 5 Fuessnote[ ändere] Verein[ ändere] Verein in dr Schwyz dr Alexander Frei hèt sy Karriere 1997 aagfange bim Fc Baasel, won er sich aber nit hèt kenne dursetze.\n",
      "=> Inhaltsverzeichnis Verein . Verein in dr Schwyz . Stade Rennes . Borussia Dortmund . Fc Baasel Nationalmannschaft . Turnier Titel und Erfolg Netzglaicher Weblingg Fuessnote ändere Verein ändere Verein in dr Schwyz dr Alexander Frei hèt sy Karriere aagfange bim Fc Baasel, won er sich aber nit hèt kenne dursetze.\n",
      "\n",
      "** Questa storia riprende grandemente una ricorrenza scritta da Phil Jimenez in cui Circe magicamente ottenne la forza della \"Donna più forte del mondo\".\n",
      "=> Questa storia riprende grandemente una ricorrenza scritta da Phil Jimenez in cui Circe magicamente ottenne la forza della Donna più forte del mondo .\n",
      "\n",
      "** Nach ersten Plänen im August 2006 war im Herbst 2008 Fertigstellung der Sportstätte.\n",
      "=> Nach ersten Plänen im August war im Herbst Fertigstellung der Sportstätte.\n",
      "\n",
      "** Aujourd’hui, on ne compte pas Benoît dans la suite des papes, mais seulement comme antipape à Avignon.\n",
      "=> Aujourd hui, on ne compte pas Benoît dans la suite des papes, mais seulement comme antipape à Avignon.\n",
      "\n",
      "** Sa sociologie était scientifiquement fondée, débarrassée des préjugés de la philosophie sociale, mais également socialement engagée.\n",
      "=> Sa sociologie était scientifiquement fondée, débarrassée des préjugés de la philosophie sociale, mais également socialement engagée.\n",
      "\n",
      "** Les vigiles commencent après, à minuit, et non directement après l'office du soir, comme c'est le cas pour les vigiles de Pâques par exemple.\n",
      "=> Les vigiles commencent après, à minuit, et non directement après l office du soir, comme c est le cas pour les vigiles de Pâques par exemple.\n",
      "\n",
      "** da passiert wenn eim langwilig isch..\n",
      "=> da passiert wenn eim langwilig isch..\n",
      "\n",
      "** Au cours d'intenses combats pour éliminer les assaillants, Guzzo est blessé alors qu'il plaçait des fusées pour signaler les positions ennemies aux avions alliés.\n",
      "=> Au cours d intenses combats pour éliminer les assaillants, Guzzo est blessé alors qu il plaçait des fusées pour signaler les positions ennemies aux avions alliés.\n",
      "\n",
      "** Dans cette dernière vue, l'Éden n'est qu'une métaphore, sans rapport avec la réalité, une rationalisation de la souffrance quotidienne.\n",
      "=> Dans cette dernière vue, l Éden n est qu une métaphore, sans rapport avec la réalité, une rationalisation de la souffrance quotidienne.\n",
      "\n",
      "** A global investor's discussion of Spain's economic boom.\n",
      "=> A global investor s discussion of Spain s economic boom.\n",
      "\n",
      "** Les versions récentes se présentent sous forme d'un panneau plat conservant la forme arrondie du sommet, avec un revêtement réfléchissant qui les rend plus lisibles à la lumière des phares de voitures.\n",
      "=> Les versions récentes se présentent sous forme d un panneau plat conservant la forme arrondie du sommet, avec un revêtement réfléchissant qui les rend plus lisibles à la lumière des phares de voitures.\n",
      "\n",
      "** Die Stadt unterhält eine Stadtbücherei, eine Jugendmusikschule, sowie mehrere Turn- und Festhallen.\n",
      "=> Die Stadt unterhält eine Stadtbücherei, eine Jugendmusikschule, sowie mehrere Turn und Festhallen.\n",
      "\n",
      "** « Em Hèr Tokter Haueschild sini Tochter isch verschwunde, entfüert, wie s uusgseet.\n",
      "=> Em Hèr Tokter Haueschild sini Tochter isch verschwunde, entfüert, wie s uusgseet.\n",
      "\n",
      "** Le 4 juin 1942, le père de Wojciech Jaruzelski meurt à Biïsk de dysenterie ; il sera enterré au cimetière de la ville.\n",
      "=> Le juin , le père de Wojciech Jaruzelski meurt à Biïsk de dysenterie il sera enterré au cimetière de la ville.\n",
      "\n",
      "** France suffered over 30,000 casualties including the commander-in-chief, Marshal Tallard, who was taken captive to England.\n",
      "=> France suffered over , casualties including the commander in chief, Marshal Tallard, who was taken captive to England.\n",
      "\n",
      "** Forming the Unified Task Force (UNITAF), the alliance was tasked with assuring security until humanitarian efforts aimed at stabilizing the situation were transferred to the UN.\n",
      "=> Forming the Unified Task Force UNITAF , the alliance was tasked with assuring security until humanitarian efforts aimed at stabilizing the situation were transferred to the UN.\n",
      "\n",
      "** Il nuovo schema di classamento degli immobili non entrò mai in vigore e dal 2009 non è più obbligatorio riportare nelle visure catastali il dato fondamentale, ovvero la superficie catastale.\n",
      "=> Il nuovo schema di classamento degli immobili non entrò mai in vigore e dal non è più obbligatorio riportare nelle visure catastali il dato fondamentale, ovvero la superficie catastale.\n",
      "\n",
      "** Die Haltung in Freilandvolieren ist nur dann sinnvoll, wenn die Vögel immer Zugang zu einem beheizten Innengehege haben.\n",
      "=> Die Haltung in Freilandvolieren ist nur dann sinnvoll, wenn die Vögel immer Zugang zu einem beheizten Innengehege haben.\n",
      "\n",
      "** wurde Ōnishi für einen Langzeitaufenthalt an Bord der ISS nominiert.\n",
      "=> wurde Ōnishi für einen Langzeitaufenthalt an Bord der ISS nominiert.\n",
      "\n"
     ]
    }
   ],
   "source": [
    "print(\"Random samples, before and after sanitization v2: \")\n",
    "print()\n",
    "\n",
    "for x in random.sample(X.tolist(), 20):\n",
    "    print(\"**\", x)\n",
    "    print(\"=>\", sanitize_2(x))\n",
    "    print()"
   ]
  },
  {
   "cell_type": "code",
   "execution_count": null,
   "metadata": {},
   "outputs": [],
   "source": []
  }
 ],
 "metadata": {
  "kernelspec": {
   "display_name": "Python 3",
   "language": "python",
   "name": "python3"
  },
  "language_info": {
   "codemirror_mode": {
    "name": "ipython",
    "version": 3
   },
   "file_extension": ".py",
   "mimetype": "text/x-python",
   "name": "python",
   "nbconvert_exporter": "python",
   "pygments_lexer": "ipython3",
   "version": "3.6.4"
  }
 },
 "nbformat": 4,
 "nbformat_minor": 2
}
