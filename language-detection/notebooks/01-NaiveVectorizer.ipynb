{
 "cells": [
  {
   "cell_type": "markdown",
   "metadata": {},
   "source": [
    "# NaiveVectorizer: Test\n",
    "\n",
    "In this notebook, we test our implementation of a vectorizer. The goal is primarily to ensure we understood how the vectorization works.  \n",
    "\n",
    "`NaiveVectorizer` should behave exactly as the `TfidfVectorizer` with the default options and \n",
    "`analyzer=char`, `norm=l2`, `sublinear_tf=True`, `use_idf=False`.\n",
    "\n",
    "\n",
    "One difference, though: in our own implementation, we added an option called `ignore_non_words` (default: True) which automatically discards ngrams that don't contain _at least one letter_. "
   ]
  },
  {
   "cell_type": "markdown",
   "metadata": {},
   "source": [
    "## Loading data"
   ]
  },
  {
   "cell_type": "code",
   "execution_count": 1,
   "metadata": {},
   "outputs": [],
   "source": [
    "%run notebook_utils.py"
   ]
  },
  {
   "cell_type": "code",
   "execution_count": 2,
   "metadata": {},
   "outputs": [],
   "source": [
    "X_train, X_test, y_train, y_test = load_split_data()"
   ]
  },
  {
   "cell_type": "markdown",
   "metadata": {},
   "source": [
    "## Importing the langid package"
   ]
  },
  {
   "cell_type": "code",
   "execution_count": 3,
   "metadata": {},
   "outputs": [
    {
     "name": "stdout",
     "output_type": "stream",
     "text": [
      "/Users/Lin/git/SwigSpot/language-detection\n"
     ]
    }
   ],
   "source": [
    "cd .."
   ]
  },
  {
   "cell_type": "code",
   "execution_count": 4,
   "metadata": {},
   "outputs": [],
   "source": [
    "from langid import NaiveVectorizer"
   ]
  },
  {
   "cell_type": "code",
   "execution_count": 5,
   "metadata": {},
   "outputs": [
    {
     "name": "stdout",
     "output_type": "stream",
     "text": [
      "/Users/Lin/git/SwigSpot/language-detection/notebooks\n"
     ]
    }
   ],
   "source": [
    "cd -"
   ]
  },
  {
   "cell_type": "markdown",
   "metadata": {},
   "source": [
    "## Testing the NaiveVectorizer"
   ]
  },
  {
   "cell_type": "markdown",
   "metadata": {},
   "source": [
    "To be able to compare the results between the two implementations, it is important to use the same `ngram_range` and `max_features` parameters and also to turn off the `ignore_non_letters` functionnality of the `NaiveVectorizer`."
   ]
  },
  {
   "cell_type": "markdown",
   "metadata": {},
   "source": [
    "### Creation and fitting"
   ]
  },
  {
   "cell_type": "markdown",
   "metadata": {},
   "source": [
    "Here, we are surprised to see that our implementation is slightly faster at fitting time..."
   ]
  },
  {
   "cell_type": "code",
   "execution_count": 6,
   "metadata": {},
   "outputs": [],
   "source": [
    "options = dict(ngram_range=(3,3), max_features=1000)"
   ]
  },
  {
   "cell_type": "code",
   "execution_count": 7,
   "metadata": {},
   "outputs": [
    {
     "name": "stdout",
     "output_type": "stream",
     "text": [
      "CPU times: user 1.44 s, sys: 178 ms, total: 1.62 s\n",
      "Wall time: 1.62 s\n"
     ]
    }
   ],
   "source": [
    "%%time\n",
    "nv = NaiveVectorizer(ignore_non_words=False, **options)\n",
    "nv.fit(X_train, y_train)"
   ]
  },
  {
   "cell_type": "code",
   "execution_count": 8,
   "metadata": {},
   "outputs": [
    {
     "name": "stdout",
     "output_type": "stream",
     "text": [
      "CPU times: user 1.94 s, sys: 66.2 ms, total: 2.01 s\n",
      "Wall time: 2.01 s\n"
     ]
    }
   ],
   "source": [
    "%%time\n",
    "from sklearn.feature_extraction.text import TfidfVectorizer\n",
    "tiv = TfidfVectorizer(analyzer='char', use_idf=False, sublinear_tf=True, **options)\n",
    "tiv.fit(X_train, y_train)"
   ]
  },
  {
   "cell_type": "markdown",
   "metadata": {},
   "source": [
    "### Comparing the two"
   ]
  },
  {
   "cell_type": "code",
   "execution_count": 9,
   "metadata": {},
   "outputs": [
    {
     "name": "stdout",
     "output_type": "stream",
     "text": [
      "Comparing features: \n",
      " Are the same ? True\n",
      " Difference: set()\n"
     ]
    }
   ],
   "source": [
    "print(\"Comparing features: \")\n",
    "nv_feat = nv._feature_names\n",
    "tiv_feat = tiv.get_feature_names()\n",
    "\n",
    "print(\" Are the same ?\", sorted(nv_feat) == sorted(tiv_feat))\n",
    "print(\" Difference:\", set(nv_feat).difference(set(tiv_feat)))"
   ]
  },
  {
   "cell_type": "code",
   "execution_count": 10,
   "metadata": {},
   "outputs": [
    {
     "name": "stdout",
     "output_type": "stream",
     "text": [
      "Comparing results: \n",
      "\n",
      "ngram   NV    TFIDF\n",
      "=========================\n",
      " bo:  0.161   0.161   (ok)\n",
      " he:  0.272   0.272   (ok)\n",
      " th:  0.161   0.161   (ok)\n",
      " wa:  0.272   0.272   (ok)\n",
      " wh:  0.161   0.161   (ok)\n",
      "ant:  0.272   0.272   (ok)\n",
      "ar :  0.161   0.161   (ok)\n",
      "art:  0.161   0.161   (ok)\n",
      "at :  0.161   0.161   (ok)\n",
      "e h:  0.272   0.272   (ok)\n",
      "ear:  0.272   0.272   (ok)\n",
      "hat:  0.161   0.161   (ok)\n",
      "he :  0.272   0.272   (ok)\n",
      "nts:  0.272   0.272   (ok)\n",
      "r w:  0.161   0.161   (ok)\n",
      "rt :  0.161   0.161   (ok)\n",
      "s b:  0.161   0.161   (ok)\n",
      "s w:  0.161   0.161   (ok)\n",
      "t t:  0.161   0.161   (ok)\n",
      "t w:  0.161   0.161   (ok)\n",
      "the:  0.272   0.272   (ok)\n",
      "ts :  0.272   0.272   (ok)\n"
     ]
    }
   ],
   "source": [
    "print(\"Comparing results: \\n\")\n",
    "test_sentence = \"The heart wants what the hear wants boy.\"\n",
    "\n",
    "nv_result = nv.transform([test_sentence])[0]\n",
    "tiv_result = tiv.transform([test_sentence])[0]\n",
    "\n",
    "nv_fw  = [(nv_feat[i], nv_result[0, i]) for i in nv_result.nonzero()[1]]\n",
    "tiv_fw = [(tiv_feat[i], tiv_result[0, i]) for i in tiv_result.nonzero()[1]]\n",
    "\n",
    "nv_fw.sort(key=lambda t: t[0])\n",
    "tiv_fw.sort(key=lambda t: t[0])\n",
    "\n",
    "print(\"ngram   NV    TFIDF\")\n",
    "print(\"=========================\")\n",
    "for n, t in zip(nv_fw, tiv_fw):\n",
    "    assert n[0] == t[0]\n",
    "    print(\"%s:  %.3f   %.3f   (%s)\" % (n[0], n[1], t[1], 'ok' if n[1] == t[1] else 'not ok'))"
   ]
  }
 ],
 "metadata": {
  "kernelspec": {
   "display_name": "Python 3",
   "language": "python",
   "name": "python3"
  },
  "language_info": {
   "codemirror_mode": {
    "name": "ipython",
    "version": 3
   },
   "file_extension": ".py",
   "mimetype": "text/x-python",
   "name": "python",
   "nbconvert_exporter": "python",
   "pygments_lexer": "ipython3",
   "version": "3.6.4"
  }
 },
 "nbformat": 4,
 "nbformat_minor": 2
}
